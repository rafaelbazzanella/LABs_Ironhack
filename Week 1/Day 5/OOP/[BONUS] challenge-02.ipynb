{
 "cells": [
  {
   "cell_type": "markdown",
   "metadata": {
    "colab_type": "text",
    "id": "IGVndfDXTYvF"
   },
   "source": [
    "# Lab - Object Oriented Programming"
   ]
  },
  {
   "cell_type": "code",
   "execution_count": 14,
   "metadata": {
    "colab": {},
    "colab_type": "code",
    "id": "eFUM14nhTYvJ"
   },
   "outputs": [],
   "source": [
    "import pandas as pd\n",
    "import numpy as np"
   ]
  },
  {
   "cell_type": "markdown",
   "metadata": {
    "colab_type": "text",
    "id": "VAdTxKlPTYvP"
   },
   "source": [
    "# Challenge 2"
   ]
  },
  {
   "cell_type": "markdown",
   "metadata": {
    "colab_type": "text",
    "id": "r1ytbMg1TYvR"
   },
   "source": [
    "In order to understand the benefits of simple object-oriented programming, we have to build up our classes from the beginning. "
   ]
  },
  {
   "cell_type": "markdown",
   "metadata": {
    "colab_type": "text",
    "id": "X0QMBMXqTYvS"
   },
   "source": [
    "You'll use the following dataframe generator to test some things. Try to understand what the following function does."
   ]
  },
  {
   "cell_type": "code",
   "execution_count": 78,
   "metadata": {
    "colab": {},
    "colab_type": "code",
    "id": "X45Itv4vTYvU"
   },
   "outputs": [],
   "source": [
    "chars = ['a', 'b', 'c','d', 'e', 'f', ' ', 'á','é','ó']\n",
    "\n",
    "def create_weird_dataframe(size=10):\n",
    "    def create_weird_colnames(size=size):\n",
    "        probs = [.2,.2,.15,.1,.1,.1,.05,.05,.025,.025]\n",
    "\n",
    "        return [''.join(\n",
    "            [(char.upper() if np.random.random() < 0.2 else char) \n",
    "                     for char in np.random.choice(chars,size=12, p=probs)]) for i in range(size)]\n",
    "    \n",
    "    data = np.random.random(size=(size,size))\n",
    "    colnames = create_weird_colnames(size)\n",
    "    return pd.DataFrame(data=data, columns=colnames)"
   ]
  },
  {
   "cell_type": "markdown",
   "metadata": {
    "colab_type": "text",
    "id": "u2mUOpnbTYvY"
   },
   "source": [
    "Test the results of running that function below. Run it several times"
   ]
  },
  {
   "cell_type": "code",
   "execution_count": 54,
   "metadata": {
    "colab": {},
    "colab_type": "code",
    "id": "sN4YC6L2TYvZ"
   },
   "outputs": [
    {
     "data": {
      "text/html": [
       "<div>\n",
       "<style scoped>\n",
       "    .dataframe tbody tr th:only-of-type {\n",
       "        vertical-align: middle;\n",
       "    }\n",
       "\n",
       "    .dataframe tbody tr th {\n",
       "        vertical-align: top;\n",
       "    }\n",
       "\n",
       "    .dataframe thead th {\n",
       "        text-align: right;\n",
       "    }\n",
       "</style>\n",
       "<table border=\"1\" class=\"dataframe\">\n",
       "  <thead>\n",
       "    <tr style=\"text-align: right;\">\n",
       "      <th></th>\n",
       "      <th>FaACabCBAáAc</th>\n",
       "      <th>AaFbábÁaa f</th>\n",
       "      <th>AcBeáeCaFfc</th>\n",
       "      <th>cccC cADfbb</th>\n",
       "      <th>cbBdcffáfaCc</th>\n",
       "      <th>AdfcFeaaacAa</th>\n",
       "      <th>eBceceacdaáa</th>\n",
       "      <th>cdcee c fóae</th>\n",
       "      <th>AfaffÉDDfbC</th>\n",
       "      <th>aEcóAdcdÁcbc</th>\n",
       "    </tr>\n",
       "  </thead>\n",
       "  <tbody>\n",
       "    <tr>\n",
       "      <th>0</th>\n",
       "      <td>0.779306</td>\n",
       "      <td>0.261638</td>\n",
       "      <td>0.680485</td>\n",
       "      <td>0.554571</td>\n",
       "      <td>0.698619</td>\n",
       "      <td>0.872051</td>\n",
       "      <td>0.650874</td>\n",
       "      <td>0.198367</td>\n",
       "      <td>0.735630</td>\n",
       "      <td>0.865589</td>\n",
       "    </tr>\n",
       "    <tr>\n",
       "      <th>1</th>\n",
       "      <td>0.726615</td>\n",
       "      <td>0.043838</td>\n",
       "      <td>0.414465</td>\n",
       "      <td>0.616975</td>\n",
       "      <td>0.069389</td>\n",
       "      <td>0.445472</td>\n",
       "      <td>0.878933</td>\n",
       "      <td>0.302875</td>\n",
       "      <td>0.957972</td>\n",
       "      <td>0.694015</td>\n",
       "    </tr>\n",
       "    <tr>\n",
       "      <th>2</th>\n",
       "      <td>0.543678</td>\n",
       "      <td>0.843689</td>\n",
       "      <td>0.369505</td>\n",
       "      <td>0.165216</td>\n",
       "      <td>0.871685</td>\n",
       "      <td>0.371465</td>\n",
       "      <td>0.074870</td>\n",
       "      <td>0.223847</td>\n",
       "      <td>0.572156</td>\n",
       "      <td>0.579130</td>\n",
       "    </tr>\n",
       "    <tr>\n",
       "      <th>3</th>\n",
       "      <td>0.983107</td>\n",
       "      <td>0.264376</td>\n",
       "      <td>0.327369</td>\n",
       "      <td>0.953250</td>\n",
       "      <td>0.792831</td>\n",
       "      <td>0.611241</td>\n",
       "      <td>0.387292</td>\n",
       "      <td>0.761592</td>\n",
       "      <td>0.751964</td>\n",
       "      <td>0.972319</td>\n",
       "    </tr>\n",
       "    <tr>\n",
       "      <th>4</th>\n",
       "      <td>0.853426</td>\n",
       "      <td>0.203772</td>\n",
       "      <td>0.974071</td>\n",
       "      <td>0.125729</td>\n",
       "      <td>0.153945</td>\n",
       "      <td>0.180723</td>\n",
       "      <td>0.772160</td>\n",
       "      <td>0.740616</td>\n",
       "      <td>0.559875</td>\n",
       "      <td>0.496805</td>\n",
       "    </tr>\n",
       "  </tbody>\n",
       "</table>\n",
       "</div>"
      ],
      "text/plain": [
       "   FaACabCBAáAc  AaFbábÁaa f   AcBeáeCaFfc   cccC cADfbb   cbBdcffáfaCc  \\\n",
       "0      0.779306      0.261638      0.680485      0.554571      0.698619   \n",
       "1      0.726615      0.043838      0.414465      0.616975      0.069389   \n",
       "2      0.543678      0.843689      0.369505      0.165216      0.871685   \n",
       "3      0.983107      0.264376      0.327369      0.953250      0.792831   \n",
       "4      0.853426      0.203772      0.974071      0.125729      0.153945   \n",
       "\n",
       "   AdfcFeaaacAa  eBceceacdaáa  cdcee c fóae  AfaffÉDDfbC   aEcóAdcdÁcbc  \n",
       "0      0.872051      0.650874      0.198367      0.735630      0.865589  \n",
       "1      0.445472      0.878933      0.302875      0.957972      0.694015  \n",
       "2      0.371465      0.074870      0.223847      0.572156      0.579130  \n",
       "3      0.611241      0.387292      0.761592      0.751964      0.972319  \n",
       "4      0.180723      0.772160      0.740616      0.559875      0.496805  "
      ]
     },
     "execution_count": 54,
     "metadata": {},
     "output_type": "execute_result"
    }
   ],
   "source": [
    "df = create_weird_dataframe()\n",
    "df.head()"
   ]
  },
  {
   "cell_type": "markdown",
   "metadata": {
    "colab_type": "text",
    "id": "uk4PrJFfTYvd"
   },
   "source": [
    "## Correcting the column names\n",
    "\n",
    "We'll create a function that rename the weird column names. The idea is to, later, extend that idea to our own brand new dataframe class."
   ]
  },
  {
   "cell_type": "markdown",
   "metadata": {
    "colab_type": "text",
    "id": "n7Zt4bABTYvf"
   },
   "source": [
    "### let's start simple: get the column names of the dataframe.\n",
    "\n",
    "Store it in a variable called `col_names`\n"
   ]
  },
  {
   "cell_type": "code",
   "execution_count": 55,
   "metadata": {
    "colab": {},
    "colab_type": "code",
    "id": "ZPR1hdCITYvg"
   },
   "outputs": [],
   "source": [
    "col_names=df.columns"
   ]
  },
  {
   "cell_type": "markdown",
   "metadata": {
    "colab_type": "text",
    "id": "CIkkr475TYvk"
   },
   "source": [
    "### Let's iterate through this columns and transform them into lower-case column names\n",
    "\n",
    "Create a list comprehension to do that if possible. Store it in a variable called `lower_colnames`"
   ]
  },
  {
   "cell_type": "code",
   "execution_count": 56,
   "metadata": {
    "colab": {},
    "colab_type": "code",
    "id": "6TXYfFx5TYvl"
   },
   "outputs": [],
   "source": [
    "lower_colnames=[col.lower() for col in col_names]"
   ]
  },
  {
   "cell_type": "markdown",
   "metadata": {
    "colab_type": "text",
    "id": "qlTchgNbTYvp"
   },
   "source": [
    "### Let's remove the spaces of these column names!\n",
    "\n",
    "Replace each column name space ` ` for an underline `_`. Again, try to use a list comprehension to do that. \n",
    "For this first task use `.replace(' ','')` method to do that."
   ]
  },
  {
   "cell_type": "code",
   "execution_count": 57,
   "metadata": {
    "colab": {},
    "colab_type": "code",
    "id": "y0JFfKgFTYvq"
   },
   "outputs": [],
   "source": [
    "lower_colnames=[col.replace(' ','_') for col in col_names]"
   ]
  },
  {
   "cell_type": "markdown",
   "metadata": {
    "colab_type": "text",
    "id": "TCj5NklYTYvu"
   },
   "source": [
    "### Create a function that groups the results obtained above and return the lower case underlined names as a list\n",
    "\n",
    "Name the function `normalize_cols`. This function should receive a dataframe, get the column names of a it and return the treated list of column names."
   ]
  },
  {
   "cell_type": "code",
   "execution_count": 58,
   "metadata": {
    "colab": {},
    "colab_type": "code",
    "id": "aqYwg4EJTYvv"
   },
   "outputs": [],
   "source": [
    "def normalize_cols(df):\n",
    "    col_names=df.columns\n",
    "    lower_colnames=[col.lower() for col in col_names]\n",
    "    lower_colnames=[col.replace(' ','_') for col in col_names]\n",
    "    lst = [each.replace('_','') for each in lower_colnames ]\n",
    "    return lst\n"
   ]
  },
  {
   "cell_type": "code",
   "execution_count": 59,
   "metadata": {},
   "outputs": [],
   "source": [
    "df.columns= normalize_cols(df)\n"
   ]
  },
  {
   "cell_type": "code",
   "execution_count": 60,
   "metadata": {},
   "outputs": [
    {
     "data": {
      "text/plain": [
       "Index(['FaACabCBAáAc', 'AaFbábÁaaf', 'AcBeáeCaFfc', 'cccCcADfbb',\n",
       "       'cbBdcffáfaCc', 'AdfcFeaaacAa', 'eBceceacdaáa', 'cdceecfóae',\n",
       "       'AfaffÉDDfbC', 'aEcóAdcdÁcbc'],\n",
       "      dtype='object')"
      ]
     },
     "execution_count": 60,
     "metadata": {},
     "output_type": "execute_result"
    }
   ],
   "source": [
    "df.columns"
   ]
  },
  {
   "cell_type": "markdown",
   "metadata": {
    "colab_type": "text",
    "id": "YMpWYJFwTYvz"
   },
   "source": [
    "### Test your results\n",
    "\n",
    "Use the following line of code to test your results. Run it several times to see some behaviors."
   ]
  },
  {
   "cell_type": "code",
   "execution_count": 61,
   "metadata": {
    "colab": {},
    "colab_type": "code",
    "id": "fbXmMMd3TYv0"
   },
   "outputs": [
    {
     "data": {
      "text/plain": [
       "['cááebcEafáaa',\n",
       " 'éÁBeAcábfóéc',\n",
       " 'adDabábfÉáab',\n",
       " 'cEdaBáddóác',\n",
       " 'óeAacbcdbéc',\n",
       " 'cbdacadfAbdá',\n",
       " 'CdeeaFeÁcódA',\n",
       " 'baáeBcfcCdd',\n",
       " 'afafcceccáaf',\n",
       " 'fBdbbcbCFaC']"
      ]
     },
     "execution_count": 61,
     "metadata": {},
     "output_type": "execute_result"
    }
   ],
   "source": [
    "normalize_cols(create_weird_dataframe())"
   ]
  },
  {
   "cell_type": "markdown",
   "metadata": {
    "colab_type": "text",
    "id": "LWMc9bikTYv4"
   },
   "source": [
    "### hmmm, we've made a mistake!\n",
    "\n",
    "We've commited several mistakes by doing this. Have observed any bugs associated with our results?"
   ]
  },
  {
   "cell_type": "markdown",
   "metadata": {
    "colab_type": "text",
    "id": "fGnyUzGATYv5"
   },
   "source": [
    "In order for us to see some problems in our results, we have to look for edge cases. \n",
    "\n",
    "For example: \n",
    "\n",
    "**Problem #1:** what if there are 2 or more following spaces? We want it to replace the spaces by several underlines or condense them into one?\n",
    "\n",
    "**Problem #2:** what if there are spaces at the beginning? Should we substitute them by underline or drop them?"
   ]
  },
  {
   "cell_type": "markdown",
   "metadata": {
    "colab_type": "text",
    "id": "BkJguuBITYv6"
   },
   "source": [
    "Let's correct each problem. Starting by problem 2."
   ]
  },
  {
   "cell_type": "markdown",
   "metadata": {
    "colab_type": "text",
    "id": "ikvacQQ3TYv7"
   },
   "source": [
    "## Correcting our function\n",
    "\n",
    "Instead of substituting the spaces at first place, let's remove the trailing and leading spaces!\n",
    "\n",
    "Recreate the `normalize_cols` with the solution to `Problem 2`.\n",
    "\n",
    "*Hint: Copy and paste the last `normalize_cols` function to change it.*"
   ]
  },
  {
   "cell_type": "code",
   "execution_count": 63,
   "metadata": {
    "colab": {},
    "colab_type": "code",
    "id": "u_kX4HS1TYv8"
   },
   "outputs": [],
   "source": [
    "def normalize_cols(df):\n",
    "    col_names=df.columns\n",
    "    lower_colnames=[col.lower() for col in col_names]\n",
    "    lower_colnames=[col.strip() for col in col_names]\n",
    "    lower_colnames=[col.replace(' ','_') for col in col_names]\n",
    "    lst = [each.replace('_','') for each in lower_colnames ]\n",
    "    return lst\n"
   ]
  },
  {
   "cell_type": "markdown",
   "metadata": {
    "colab_type": "text",
    "id": "MXm2-PEbTYwA"
   },
   "source": [
    "### Test your results again.\n",
    "\n",
    "At least, for now, you should not have any trailing nor leading underlines."
   ]
  },
  {
   "cell_type": "code",
   "execution_count": 64,
   "metadata": {
    "colab": {},
    "colab_type": "code",
    "id": "Bm9ifu5QTYwB"
   },
   "outputs": [
    {
     "data": {
      "text/plain": [
       "['cbbbFaaBaadb',\n",
       " 'ófÁCababáCée',\n",
       " 'ceaabeCBecBd',\n",
       " 'Eaadeffeaba',\n",
       " 'AfaAócEÁdEF',\n",
       " 'caDcaBbAácfe',\n",
       " 'BcaccdecfAE',\n",
       " 'baDFaóeaedaF',\n",
       " 'fáabAáccCacd',\n",
       " 'báAáeácáeea']"
      ]
     },
     "execution_count": 64,
     "metadata": {},
     "output_type": "execute_result"
    }
   ],
   "source": [
    "normalize_cols(create_weird_dataframe())"
   ]
  },
  {
   "cell_type": "markdown",
   "metadata": {
    "colab_type": "text",
    "id": "zNR5w4cWTYwE"
   },
   "source": [
    "### Correcting problem 1"
   ]
  },
  {
   "cell_type": "markdown",
   "metadata": {
    "colab_type": "text",
    "id": "vSJu3qCCTYwG"
   },
   "source": [
    "To correct problem 1, instead of using `.replace()` string method, we want to use a regular expression. Use the module `re` to substitute the pattern of `1 or more spaces` by 1 underline `_`.\n",
    "\n",
    "Test your solution on the variable below:"
   ]
  },
  {
   "cell_type": "code",
   "execution_count": 72,
   "metadata": {
    "colab": {},
    "colab_type": "code",
    "id": "8dm4rS5mTYwH"
   },
   "outputs": [],
   "source": [
    "import re \n",
    "\n",
    "text = 'these spaces      should all be one underline'"
   ]
  },
  {
   "cell_type": "code",
   "execution_count": 70,
   "metadata": {
    "colab": {},
    "colab_type": "code",
    "id": "RP-cz9kKTYwK"
   },
   "outputs": [],
   "source": [
    "pattern = '[ ]+'\n",
    "text= re.sub(pattern,'_',text)"
   ]
  },
  {
   "cell_type": "code",
   "execution_count": 75,
   "metadata": {},
   "outputs": [
    {
     "data": {
      "text/plain": [
       "'these_spaces_should_all_be_one_underline'"
      ]
     },
     "execution_count": 75,
     "metadata": {},
     "output_type": "execute_result"
    }
   ],
   "source": [
    "text"
   ]
  },
  {
   "cell_type": "markdown",
   "metadata": {
    "colab_type": "text",
    "id": "iqffTpd3TYwU"
   },
   "source": [
    "### Now correct your `normalize_cols` function\n",
    "\n",
    "*Hint: Copy and paste the last `normalize_cols` function to change it.*"
   ]
  },
  {
   "cell_type": "code",
   "execution_count": 76,
   "metadata": {
    "colab": {},
    "colab_type": "code",
    "id": "7SxhpuOCTYwV"
   },
   "outputs": [],
   "source": [
    "def normalize_cols(df):\n",
    "    col_names=df.columns\n",
    "    lower_colnames=[col.lower() for col in col_names]\n",
    "    lower_colnames=[col.strip() for col in col_names]\n",
    "    \n",
    "    lower_colnames=[re.sub('[ ]+','_',col) for col in col_names]\n",
    "    lst = [each.replace('_','') for each in lower_colnames ]\n",
    "    return lst\n"
   ]
  },
  {
   "cell_type": "markdown",
   "metadata": {
    "colab_type": "text",
    "id": "mn0UwlZATYwX"
   },
   "source": [
    "### Again, test your results.\n",
    "\n",
    "Now, sometimes some column names should have smaller sizes (because you are removing consecutive spaces)"
   ]
  },
  {
   "cell_type": "code",
   "execution_count": 79,
   "metadata": {
    "colab": {},
    "colab_type": "code",
    "id": "LzHIKAT4TYwZ"
   },
   "outputs": [
    {
     "data": {
      "text/plain": [
       "['BcbcfFbcfédc',\n",
       " 'cDóaeaádfEc',\n",
       " 'ÉcccbcaFófaa',\n",
       " 'aabdbébAédDb',\n",
       " 'EfaáBbaecéb',\n",
       " 'caabDdáfffc',\n",
       " 'edCBebabfba',\n",
       " 'abcdcddáAaaF',\n",
       " 'eacbfcbabace',\n",
       " 'cddbcaBeCdFf']"
      ]
     },
     "execution_count": 79,
     "metadata": {},
     "output_type": "execute_result"
    }
   ],
   "source": [
    "normalize_cols(create_weird_dataframe())"
   ]
  },
  {
   "cell_type": "markdown",
   "metadata": {
    "colab_type": "text",
    "id": "bs7KvyTwTYwc"
   },
   "source": [
    "## Last step: remove accents"
   ]
  },
  {
   "cell_type": "markdown",
   "metadata": {
    "colab_type": "text",
    "id": "rhQLRfoYTYwd"
   },
   "source": [
    "The last step consists in removing accents from the strings.\n",
    "\n",
    "Import the package `unidecode` to use its module also called `unidecode` to remove accents. Test on the word below."
   ]
  },
  {
   "cell_type": "code",
   "execution_count": 87,
   "metadata": {},
   "outputs": [
    {
     "name": "stdout",
     "output_type": "stream",
     "text": [
      "Collecting Unidecode\n",
      "  Downloading https://files.pythonhosted.org/packages/d0/42/d9edfed04228bacea2d824904cae367ee9efd05e6cce7ceaaedd0b0ad964/Unidecode-1.1.1-py2.py3-none-any.whl (238kB)\n",
      "Installing collected packages: Unidecode\n",
      "Successfully installed Unidecode-1.1.1\n"
     ]
    }
   ],
   "source": [
    "!pip install Unidecode"
   ]
  },
  {
   "cell_type": "code",
   "execution_count": 88,
   "metadata": {
    "colab": {},
    "colab_type": "code",
    "id": "4fgbbUbZTYwg"
   },
   "outputs": [],
   "source": [
    "from unidecode import unidecode"
   ]
  },
  {
   "cell_type": "code",
   "execution_count": 91,
   "metadata": {
    "colab": {},
    "colab_type": "code",
    "id": "osrv7brdTYwe"
   },
   "outputs": [],
   "source": [
    "text = 'aéóúaorowó'"
   ]
  },
  {
   "cell_type": "markdown",
   "metadata": {
    "colab_type": "text",
    "id": "tCoX4ZYLTYwj"
   },
   "source": [
    "### Now remove the accents for each column name in your `normalized_cols` function.\n",
    "\n",
    "*Hint: Copy and paste the last `normalize_cols` function to change it.*"
   ]
  },
  {
   "cell_type": "code",
   "execution_count": 101,
   "metadata": {
    "colab": {},
    "colab_type": "code",
    "id": "3ZW9No0uTYwk"
   },
   "outputs": [],
   "source": [
    "def normalize_cols(df):\n",
    "    col_names=df.columns\n",
    "    lower_colnames=[col.lower() for col in col_names]\n",
    "    lower_colnames=[col.strip() for col in col_names]\n",
    "    \n",
    "    lower_colnames=[re.sub('[ ]+','_',col) for col in col_names]\n",
    "    lst = [unidecode(each.replace('_','')) for each in lower_colnames ]\n",
    "    return lst"
   ]
  },
  {
   "cell_type": "markdown",
   "metadata": {
    "colab_type": "text",
    "id": "MTgNfgeYTYwm"
   },
   "source": [
    "### Test your results"
   ]
  },
  {
   "cell_type": "code",
   "execution_count": 104,
   "metadata": {
    "colab": {},
    "colab_type": "code",
    "id": "RxDiO0PzTYwn"
   },
   "outputs": [
    {
     "data": {
      "text/plain": [
       "['FdbbAbeeCbca',\n",
       " 'baceebfaaaE',\n",
       " 'dfCaCebabFa',\n",
       " 'bbabfbeacbae',\n",
       " 'aacaceebcaEe',\n",
       " 'dcdadaacec',\n",
       " 'baccBCecdbAB',\n",
       " 'FoaeAccAAfca',\n",
       " 'abaabbdcFcC',\n",
       " 'cfdebebeaaCa']"
      ]
     },
     "execution_count": 104,
     "metadata": {},
     "output_type": "execute_result"
    }
   ],
   "source": [
    "normalize_cols(create_weird_dataframe())"
   ]
  },
  {
   "cell_type": "markdown",
   "metadata": {
    "colab_type": "text",
    "id": "VQ9C0CjkTYwq"
   },
   "source": [
    "## Good job. \n",
    "\n",
    "Right now you have a function that receives a dataframe and returns its columns names with a good formatting."
   ]
  },
  {
   "cell_type": "markdown",
   "metadata": {
    "colab_type": "text",
    "id": "5swtawYcTYwq"
   },
   "source": [
    "# Creating our own dataframe."
   ]
  },
  {
   "cell_type": "code",
   "execution_count": 105,
   "metadata": {
    "colab": {},
    "colab_type": "code",
    "id": "69irk1odTYwr"
   },
   "outputs": [],
   "source": [
    "from pandas import DataFrame"
   ]
  },
  {
   "cell_type": "markdown",
   "metadata": {
    "colab_type": "text",
    "id": "3vUf_BFSTYwt"
   },
   "source": [
    "A dataframe is just a simple class. It contains its own attributes and methods. \n",
    "\n",
    "When you create a pd.DataFrame() you are just instantiating the DataFrame class as an object that you can store in a variable. From this point onwards, you have access to all DataFrame class attributes (`.columns` for example) and methods (`.isna()` for example). We've been using those since always! "
   ]
  },
  {
   "cell_type": "markdown",
   "metadata": {
    "colab_type": "text",
    "id": "A5I8dflETYwu"
   },
   "source": [
    "If we wish, we could create our own class inheriting everything from a DataFrame class."
   ]
  },
  {
   "cell_type": "code",
   "execution_count": 110,
   "metadata": {
    "colab": {},
    "colab_type": "code",
    "id": "xZUmnuzzTYwv"
   },
   "outputs": [],
   "source": [
    "class myDataFrame(DataFrame):\n",
    "    \n",
    "    def __init__(self,DataFrame):\n",
    "        DataFrame.columns= normalize_cols(DataFrame)\n",
    "    \n",
    "    def normalize_cols(self,DataFrame):\n",
    "        col_names=DataFrame.columns\n",
    "        lower_colnames=[col.lower() for col in col_names]\n",
    "        lower_colnames=[col.strip() for col in col_names]\n",
    "\n",
    "        lower_colnames=[re.sub('[ ]+','_',col) for col in col_names]\n",
    "        lst = [unidecode(each.replace('_','')) for each in lower_colnames ]\n",
    "        return lst"
   ]
  },
  {
   "cell_type": "markdown",
   "metadata": {
    "colab_type": "text",
    "id": "mPSyMDn4TYwy"
   },
   "source": [
    "Instead of just creating myDataFrame, put your function inside your new inherited class, that is, transform `normalize_cols` into a method of your own DataFrame.\n",
    "\n",
    "Remember you'll have to give self as the first argument of the `normalize_cols`. So you could replace everything you once called `dataframe` inside your `normalize_cols` by `self`. \n",
    "\n",
    "At the end, return the list of the correct names."
   ]
  },
  {
   "cell_type": "code",
   "execution_count": 0,
   "metadata": {
    "colab": {},
    "colab_type": "code",
    "id": "UD3uk6bkTYwz"
   },
   "outputs": [],
   "source": []
  },
  {
   "cell_type": "markdown",
   "metadata": {
    "colab_type": "text",
    "id": "lCKiKMavTYw1"
   },
   "source": [
    "Test your results."
   ]
  },
  {
   "cell_type": "code",
   "execution_count": 109,
   "metadata": {
    "colab": {},
    "colab_type": "code",
    "id": "EaVQNJBbTYw2"
   },
   "outputs": [
    {
     "ename": "TypeError",
     "evalue": "normalize_cols() missing 1 required positional argument: 'DataFrame'",
     "output_type": "error",
     "traceback": [
      "\u001b[1;31m---------------------------------------------------------------------------\u001b[0m",
      "\u001b[1;31mTypeError\u001b[0m                                 Traceback (most recent call last)",
      "\u001b[1;32m<ipython-input-109-6b04cc314ab7>\u001b[0m in \u001b[0;36m<module>\u001b[1;34m\u001b[0m\n\u001b[0;32m      1\u001b[0m \u001b[0mdf\u001b[0m \u001b[1;33m=\u001b[0m \u001b[0mmyDataFrame\u001b[0m\u001b[1;33m(\u001b[0m\u001b[0mcreate_weird_dataframe\u001b[0m\u001b[1;33m(\u001b[0m\u001b[1;33m)\u001b[0m\u001b[1;33m)\u001b[0m\u001b[1;33m\u001b[0m\u001b[1;33m\u001b[0m\u001b[0m\n\u001b[1;32m----> 2\u001b[1;33m \u001b[0mdf\u001b[0m\u001b[1;33m.\u001b[0m\u001b[0mnormalize_cols\u001b[0m\u001b[1;33m(\u001b[0m\u001b[1;33m)\u001b[0m\u001b[1;33m\u001b[0m\u001b[1;33m\u001b[0m\u001b[0m\n\u001b[0m",
      "\u001b[1;31mTypeError\u001b[0m: normalize_cols() missing 1 required positional argument: 'DataFrame'"
     ]
    }
   ],
   "source": [
    "df = myDataFrame(create_weird_dataframe())\n",
    "df.normalize_cols()"
   ]
  },
  {
   "cell_type": "markdown",
   "metadata": {
    "colab_type": "text",
    "id": "I0IlScuLTYw5"
   },
   "source": [
    "## Understanding even more the `self` argument"
   ]
  },
  {
   "cell_type": "markdown",
   "metadata": {
    "colab_type": "text",
    "id": "UF5gjA1qTYw6"
   },
   "source": [
    "Instead of returning a list containing the correct columns, you should now assign the correct columns to the `self.columns` - this will effectively replace the values of your object by the correct columns.\n",
    "\n",
    "\n",
    "Now change your method to return the dataframe itself. That is, return the `self` argument this time and see the results! \n",
    "\n",
    "```python\n",
    "class myDataFrame(DataFrame):\n",
    "    def normalize_cos(self):\n",
    "        ...\n",
    "        return self\n",
    "```"
   ]
  },
  {
   "cell_type": "code",
   "execution_count": 0,
   "metadata": {
    "colab": {},
    "colab_type": "code",
    "id": "dTtylbdGTYw7"
   },
   "outputs": [],
   "source": []
  },
  {
   "cell_type": "markdown",
   "metadata": {
    "colab_type": "text",
    "id": "bh1SJi3lTYxf"
   },
   "source": [
    "## Understanding the self argument"
   ]
  },
  {
   "cell_type": "markdown",
   "metadata": {
    "colab_type": "text",
    "id": "ZnGiF0QgTYxi"
   },
   "source": [
    "Now, below the `for loop` you've created, let's create the attributes of the `Car` class. Remember the attributes you wrote down earlier? Let's put them as arguments of the `__init__(self,)` function.\n",
    "\n",
    "Remember, the first argument of the `__init__(self,)` function should always be the `self` keyword. \n",
    "\n",
    "The `self` argument represents the object itself. That is a way for you to have access to the objects own attribute. \n"
   ]
  },
  {
   "cell_type": "markdown",
   "metadata": {
    "colab_type": "text",
    "id": "EuP7N9DzTYxj"
   },
   "source": [
    "### First, let's start creating one single attribute of this car."
   ]
  },
  {
   "cell_type": "markdown",
   "metadata": {
    "colab_type": "text",
    "id": "Szqw_HxlTYxk"
   },
   "source": [
    "Let's say you have chosen `name` as a car attribute (what? can't a car have a name?). \n",
    "\n",
    "If you want your class to receive a specific car name as an argument, you have to put this variable as the argument of the `__init__` function. So, to add `name`, the results of your special function definition would be:\n",
    "\n",
    "```python\n",
    "def __init__(self, name):\n",
    "    pass\n",
    "```\n",
    "\n",
    "Now, when you instantiate your Car class, the syntax would be similar to calling a function (which, by now, you should now that it is what you are effectively doing - you are calling the __init__ method), so what the syntax would be:\n",
    "\n",
    "*Hint: If you don't specify an argument, the python interpreter will complain that your class requires one argument (try that - if you don't try it now, it is not a problem, you'll try in future, even when you don't want to).*\n"
   ]
  },
  {
   "cell_type": "code",
   "execution_count": 0,
   "metadata": {
    "colab": {},
    "colab_type": "code",
    "id": "Uz0lt0tuTYxk"
   },
   "outputs": [],
   "source": [
    "# your code here"
   ]
  },
  {
   "cell_type": "markdown",
   "metadata": {
    "colab_type": "text",
    "id": "FLmjUel1TYxo"
   },
   "source": [
    "### Now let's store that new argument\n",
    "\n",
    "By now, you are only receiving the name of the car as an argument, but you are not doing anything specifically with that variable called `name`.\n",
    "\n",
    "Let's store that in the object. That's the first use of the `self` keyword.\n",
    "\n",
    "To store the variable in a way that the user can access via a `car.SOMETHING`, you have to specify that the object itself is receiving the attribute `name` (for example)\n",
    "\n",
    "Then, **create a variable called `name` that receives the argument `name`** (keep in mind that the name of the variable need not necessarily be the same, you could assing the argument `name` to an attribute called `chimpanze` for example).\n",
    "\n",
    "Also **create the other 5 attributes that you previously had in mind**\n"
   ]
  },
  {
   "cell_type": "code",
   "execution_count": 0,
   "metadata": {
    "colab": {},
    "colab_type": "code",
    "id": "7FzwacOwTYxq"
   },
   "outputs": [],
   "source": [
    "# your code here"
   ]
  },
  {
   "cell_type": "markdown",
   "metadata": {
    "colab_type": "text",
    "id": "3fS9sCKjTYxs"
   },
   "source": [
    "### Access the attribute\n",
    "\n",
    "You should now be able to access the object's attribute once you instantiate it as `my_car.name`\n",
    "\n",
    "You can try to write `my_car.<TAB>` to check what attributes or methods your object contains."
   ]
  },
  {
   "cell_type": "code",
   "execution_count": 0,
   "metadata": {
    "colab": {},
    "colab_type": "code",
    "id": "if18GWwtTYxt"
   },
   "outputs": [],
   "source": []
  },
  {
   "cell_type": "markdown",
   "metadata": {
    "colab_type": "text",
    "id": "uu5Ma2rvTYxu"
   },
   "source": [
    "## Understanding special methods"
   ]
  },
  {
   "cell_type": "markdown",
   "metadata": {
    "colab_type": "text",
    "id": "ltpSwuvTTYxv"
   },
   "source": [
    "Special methods are the ones that start with double underlines (usually called `dunder`), for example the `__init__` method, the `__doc__` method or `__repr__` method (called as `dunder init`, `dunder doc`, `dunder repr`)."
   ]
  },
  {
   "cell_type": "markdown",
   "metadata": {
    "colab_type": "text",
    "id": "dyytOn27TYxw"
   },
   "source": [
    "The `__repr__` method is responsible to show how your class will be displayed on screen when you display it.\n",
    "Let's create a `__repr__(self)` function on our `Car` class that returns the following string below (copy the string below):\n",
    "\n",
    "```python\n",
    "    car = f'''\n",
    "                  ______--------___\n",
    "                 /|             / |\n",
    "      o___________|_\\__________/__|\n",
    "     ]|___     |  |=   ||  =|___  |\"\n",
    "     //   \\\\    |  |____||_///   \\\\|\"\n",
    "    |  X  |\\--------------/|  X  |\\\"\n",
    "     \\___/                  \\___/\n",
    "    '''\n",
    "```\n",
    "\n",
    "Your class should now have two special methods, `__init__` and `__repr__`"
   ]
  },
  {
   "cell_type": "code",
   "execution_count": 0,
   "metadata": {
    "colab": {},
    "colab_type": "code",
    "id": "y4JUYVALTYxw"
   },
   "outputs": [],
   "source": [
    "class Car:\n",
    "    \n",
    "    def __init__(self, car_name):\n",
    "        self.car_name = car_name\n",
    "    \n",
    "    def __repr__(self):\n",
    "        \n",
    "        car = f'''\n",
    "                      ______--------___\n",
    "                     /|             / |\n",
    "          o___________|_\\__________/__|\n",
    "         ]|___     |  |=   ||  =|___  |\"\n",
    "         //   \\\\    |  |____||_///   \\\\|\"\n",
    "        |  X  |\\--------------/|  X  |\\\"\n",
    "         \\___/                  \\___/\n",
    "        '''\n",
    "        \n",
    "        return car"
   ]
  },
  {
   "cell_type": "markdown",
   "metadata": {
    "colab_type": "text",
    "id": "cZV4Qq62TYx4"
   },
   "source": [
    "### Now instantiate your Car class again"
   ]
  },
  {
   "cell_type": "code",
   "execution_count": 0,
   "metadata": {
    "colab": {},
    "colab_type": "code",
    "id": "K51Kjik8TYx4"
   },
   "outputs": [],
   "source": [
    "my_car = Car('Jeguinho')"
   ]
  },
  {
   "cell_type": "markdown",
   "metadata": {
    "colab_type": "text",
    "id": "ZoFEGcT1TYx8"
   },
   "source": [
    "### And check what happens when you print your object on screen"
   ]
  },
  {
   "cell_type": "code",
   "execution_count": 0,
   "metadata": {
    "colab": {},
    "colab_type": "code",
    "id": "v3JCceBBTYx9"
   },
   "outputs": [],
   "source": [
    "print(my_car)"
   ]
  },
  {
   "cell_type": "markdown",
   "metadata": {
    "colab_type": "text",
    "id": "tfhgwGFDTYyA"
   },
   "source": [
    "### Now create a simple method to receive and return the `self` variable\n",
    "\n",
    "Create a simple method inside your `class Car` and return `self` the self argument. Name this method `get_itself`."
   ]
  },
  {
   "cell_type": "code",
   "execution_count": 0,
   "metadata": {
    "colab": {},
    "colab_type": "code",
    "id": "jEQNj8r4TYyB"
   },
   "outputs": [],
   "source": [
    "class Car:\n",
    "    \n",
    "    def __init__(self, car_name):\n",
    "        self.car_name = car_name\n",
    "    \n",
    "    def __repr__(self):\n",
    "        \n",
    "        car = f'''\n",
    "                      ______--------___\n",
    "                     /|             / |\n",
    "          o___________|_\\__________/__|\n",
    "         ]|___     |  |=   ||  =|___  |\"\n",
    "         //   \\\\    |  |____||_///   \\\\|\"\n",
    "        |  X  |\\--------------/|  X  |\\\"\n",
    "         \\___/                  \\___/\n",
    "        '''\n",
    "        \n",
    "        return car\n",
    "    \n",
    "    def get_itself(self):\n",
    "        return self"
   ]
  },
  {
   "cell_type": "markdown",
   "metadata": {
    "colab_type": "text",
    "id": "Zd2avbOGTYyE"
   },
   "source": [
    "#### Now instantiate the Car class and call `get_itself()`"
   ]
  },
  {
   "cell_type": "code",
   "execution_count": 0,
   "metadata": {
    "colab": {},
    "colab_type": "code",
    "id": "pUl9ZI8YTYyF"
   },
   "outputs": [],
   "source": [
    "my_car = Car('andre')"
   ]
  },
  {
   "cell_type": "code",
   "execution_count": 0,
   "metadata": {
    "colab": {},
    "colab_type": "code",
    "id": "AZ3o-NCkTYyK"
   },
   "outputs": [],
   "source": [
    "my_car.get_itself()"
   ]
  },
  {
   "cell_type": "markdown",
   "metadata": {
    "colab_type": "text",
    "id": "QZ25I6chTYyL"
   },
   "source": [
    "This happens because you are print this specific object. "
   ]
  }
 ],
 "metadata": {
  "colab": {
   "collapsed_sections": [
    "TCj5NklYTYvu",
    "YMpWYJFwTYvz",
    "LWMc9bikTYv4",
    "ikvacQQ3TYv7",
    "MXm2-PEbTYwA",
    "zNR5w4cWTYwE",
    "iqffTpd3TYwU",
    "mn0UwlZATYwX",
    "bs7KvyTwTYwc",
    "tCoX4ZYLTYwj",
    "MTgNfgeYTYwm",
    "VQ9C0CjkTYwq",
    "I0IlScuLTYw5",
    "bh1SJi3lTYxf",
    "EuP7N9DzTYxj",
    "FLmjUel1TYxo",
    "3fS9sCKjTYxs",
    "uu5Ma2rvTYxu",
    "cZV4Qq62TYx4",
    "ZoFEGcT1TYx8",
    "tfhgwGFDTYyA",
    "Zd2avbOGTYyE"
   ],
   "name": "[BONUS] challenge-02.ipynb",
   "provenance": []
  },
  "kernelspec": {
   "display_name": "Python 3",
   "language": "python",
   "name": "python3"
  },
  "language_info": {
   "codemirror_mode": {
    "name": "ipython",
    "version": 3
   },
   "file_extension": ".py",
   "mimetype": "text/x-python",
   "name": "python",
   "nbconvert_exporter": "python",
   "pygments_lexer": "ipython3",
   "version": "3.7.4"
  },
  "toc": {
   "base_numbering": 1,
   "nav_menu": {},
   "number_sections": true,
   "sideBar": true,
   "skip_h1_title": false,
   "title_cell": "Table of Contents",
   "title_sidebar": "Contents",
   "toc_cell": false,
   "toc_position": {},
   "toc_section_display": true,
   "toc_window_display": false
  },
  "varInspector": {
   "cols": {
    "lenName": 16,
    "lenType": 16,
    "lenVar": 40
   },
   "kernels_config": {
    "python": {
     "delete_cmd_postfix": "",
     "delete_cmd_prefix": "del ",
     "library": "var_list.py",
     "varRefreshCmd": "print(var_dic_list())"
    },
    "r": {
     "delete_cmd_postfix": ") ",
     "delete_cmd_prefix": "rm(",
     "library": "var_list.r",
     "varRefreshCmd": "cat(var_dic_list()) "
    }
   },
   "types_to_exclude": [
    "module",
    "function",
    "builtin_function_or_method",
    "instance",
    "_Feature"
   ],
   "window_display": false
  }
 },
 "nbformat": 4,
 "nbformat_minor": 1
}
