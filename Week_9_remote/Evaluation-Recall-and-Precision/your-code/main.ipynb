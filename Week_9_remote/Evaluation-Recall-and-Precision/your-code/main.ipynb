{
 "cells": [
  {
   "cell_type": "markdown",
   "metadata": {
    "colab_type": "text",
    "id": "X3YSDiy0Up_C"
   },
   "source": [
    "# Evaluation: Precision & Recall\n",
    "## Using the evaluation metrics we have learned, we are going to compare how well some different types of classifiers perform on different evaluation metrics\n",
    "### We are going to use a dataset of written numbers which we can import from sklearn. Run the code below to do so. \n"
   ]
  },
  {
   "cell_type": "code",
   "execution_count": 2,
   "metadata": {},
   "outputs": [],
   "source": [
    "import pandas as pd"
   ]
  },
  {
   "cell_type": "code",
   "execution_count": 102,
   "metadata": {
    "colab": {},
    "colab_type": "code",
    "id": "fnUelxEmUp_D"
   },
   "outputs": [],
   "source": [
    "import numpy as np\n",
    "from sklearn.datasets import fetch_openml\n",
    "mnist = fetch_openml('mnist_784')\n",
    "\n",
    "X, y = mnist['data'], mnist['target']"
   ]
  },
  {
   "cell_type": "code",
   "execution_count": 103,
   "metadata": {},
   "outputs": [
    {
     "data": {
      "text/plain": [
       "array([[0., 0., 0., ..., 0., 0., 0.],\n",
       "       [0., 0., 0., ..., 0., 0., 0.],\n",
       "       [0., 0., 0., ..., 0., 0., 0.],\n",
       "       ...,\n",
       "       [0., 0., 0., ..., 0., 0., 0.],\n",
       "       [0., 0., 0., ..., 0., 0., 0.],\n",
       "       [0., 0., 0., ..., 0., 0., 0.]])"
      ]
     },
     "execution_count": 103,
     "metadata": {},
     "output_type": "execute_result"
    }
   ],
   "source": [
    "X"
   ]
  },
  {
   "cell_type": "markdown",
   "metadata": {
    "colab_type": "text",
    "id": "IMgKR4YhUp_G"
   },
   "source": [
    "### Now take a look at the shapes of the X and y matricies \n"
   ]
  },
  {
   "cell_type": "code",
   "execution_count": 10,
   "metadata": {
    "colab": {},
    "colab_type": "code",
    "id": "prseFXcoUp_H"
   },
   "outputs": [
    {
     "name": "stdout",
     "output_type": "stream",
     "text": [
      "X:  (70000, 784) \n",
      "y:  (70000,)\n"
     ]
    }
   ],
   "source": [
    "print('X: ', X.shape,'\\ny: ', y.shape)"
   ]
  },
  {
   "cell_type": "markdown",
   "metadata": {
    "colab_type": "text",
    "id": "XRz_ivu3Up_J"
   },
   "source": [
    "### Now, let's pick one entry and see what number is written. Use indexing to pick the 36000th digit"
   ]
  },
  {
   "cell_type": "code",
   "execution_count": 15,
   "metadata": {
    "colab": {},
    "colab_type": "code",
    "id": "hIilw19uUp_J"
   },
   "outputs": [
    {
     "name": "stdout",
     "output_type": "stream",
     "text": [
      "X: [  0.   0.   0.   0.   0.   0.   0.   0.   0.   0.   0.   0.   0.   0.\n",
      "   0.   0.   0.   0.   0.   0.   0.   0.   0.   0.   0.   0.   0.   0.\n",
      "   0.   0.   0.   0.   0.   0.   0.   0.   0.   0.   0.   0.   0.   0.\n",
      "   0.   0.   0.   0.   0.   0.   0.   0.   0.   0.   0.   0.   0.   0.\n",
      "   0.   0.   0.   0.   0.   0.   0.   0.   0.   0.   0.   0.   0.   0.\n",
      "   0.   0.   0.   0.   0.   0.   0.   0.   0.   0.   0.   0.   0.   0.\n",
      "   0.   0.   0.   0.   0.   0.   0.   0.   0.   0.   0.   0.   0.   0.\n",
      "   0.   0.   0.   0.   0.   0.   0.   0.   0.   0.   0.   0.   0.   0.\n",
      "   0.   0.   0.   0.   0.   0.   0.   0.   0.   0.   0.   0.   0.   0.\n",
      "   0.   0.   0.   0.   0.   0.   0.   0.   0.   0.   0.   0.   0.   0.\n",
      "   0.   0.   0.   0.   0.   0.   0.   0.   0.   0.   0.   0.   0.   0.\n",
      "   0.   0.   0.   0.   0.   0.   0.   0.   0.   0.   0.   0.   0.   0.\n",
      "   0.   0.   0.   0.   0.   0.   0.   0.   0.   0.   0.   0.   0.   0.\n",
      "   0.   0.   0.   4. 149. 255. 184.  12.   0.   0.   0.   0.   0.   0.\n",
      "   0.   0.   0.   0.   0.   0.   0.   0.   0.   0.   0.   0.   0.   0.\n",
      "   0.  11. 133. 212. 253. 253. 253. 102.   0.   0.   0.   0.   0.   0.\n",
      "   0.   0.   0.   0.   0.   0.   0.   0.   0.   0.   0.   0.   0.   0.\n",
      " 162. 236. 253. 253. 253. 253. 253.  55.   0.   0.   0.   0.   0.   0.\n",
      "   0.   0.   0.   0.   0.   0.   0.   0.   0.   0.   0.   0.  35. 196.\n",
      " 253. 253. 253. 253. 253. 253. 239.  18.   0.   0.   0.   0.   0.   0.\n",
      "   0.   0.   0.   0.   0.   0.   0.   0.   0.   0.   0.  89. 249. 253.\n",
      " 253. 253. 185. 253. 253. 177.  24.   0.   0.   0.   0.   0.   0.   0.\n",
      "   0.   0.   0.   0.   0.   0.   0.   0.   0.   0. 129. 247. 253. 253.\n",
      " 165. 150. 205. 253. 139.   3.   0.   0.   0.   0.   0.   0.   0.   0.\n",
      "   0.   0.   0.   0.   0.   0.   0.   0.   0.  89. 247. 253. 240. 131.\n",
      "  85. 221. 253. 253.  84.   0.   0.   0.   0.   0.   0.   0.   0.   0.\n",
      "   0.   0.   0.   0.   0.   0.   0.   0.   4. 187. 253. 253. 236. 139.\n",
      " 252. 253. 253. 253.  84.   0.   0.   0.   0.   0.   0.   0.   0.   0.\n",
      "   0.   0.   0.   0.   0.   0.   0.   0.  21. 253. 253. 253. 253. 253.\n",
      " 253. 253. 253. 248.  53.   0.   0.   0.   0.   0.   0.   0.   0.   0.\n",
      "   0.   0.   0.   0.   0.   0.   0.   0.  99. 253. 253. 253. 253. 253.\n",
      " 214. 253. 253. 179.   0.   0.   0.   0.   0.   0.   0.   0.   0.   0.\n",
      "   0.   0.   0.   0.   0.   0.   0.   0.   4. 186. 251. 253. 249. 172.\n",
      " 133. 253. 253. 137.   0.   0.   0.   0.   0.   0.   0.   0.   0.   0.\n",
      "   0.   0.   0.   0.   0.   0.   0.   0.   0.   0.  49.  94.   6.   0.\n",
      " 212. 253. 253.  39.   0.   0.   0.   0.   0.   0.   0.   0.   0.   0.\n",
      "   0.   0.   0.   0.   0.   0.   0.   0.   0.   0.   0.   0.   0. 126.\n",
      " 253. 253. 197.   6.   0.   0.   0.   0.   0.   0.   0.   0.   0.   0.\n",
      "   0.   0.   0.   0.   0.   0.   0.   0.   0.   0.   0.   0.  27. 234.\n",
      " 253. 253.  94.   0.   0.   0.   0.   0.   0.   0.   0.   0.   0.   0.\n",
      "   0.   0.   0.   0.   0.   0.   0.   0.   0.   0.   0.   0. 100. 253.\n",
      " 253. 239.  11.   0.   0.   0.   0.   0.   0.   0.   0.   0.   0.   0.\n",
      "   0.   0.   0.   0.   0.   0.   0.   0.   0.   0.   0.  61. 249. 253.\n",
      " 253.  79.   0.   0.   0.   0.   0.   0.   0.   0.   0.   0.   0.   0.\n",
      "   0.   0.   0.   0.   0.   0.   0.   0.   0.   0.   5. 109. 253. 253.\n",
      " 193.   4.   0.   0.   0.   0.   0.   0.   0.   0.   0.   0.   0.   0.\n",
      "   0.   0.   0.   0.   0.   0.   0.   0.   0.   0.  66. 253. 253. 253.\n",
      "  30.   0.   0.   0.   0.   0.   0.   0.   0.   0.   0.   0.   0.   0.\n",
      "   0.   0.   0.   0.   0.   0.   0.   0.   0.   0. 147. 253. 253. 182.\n",
      "   2.   0.   0.   0.   0.   0.   0.   0.   0.   0.   0.   0.   0.   0.\n",
      "   0.   0.   0.   0.   0.   0.   0.   0.   0.  99. 248. 253. 222.  13.\n",
      "   0.   0.   0.   0.   0.   0.   0.   0.   0.   0.   0.   0.   0.   0.\n",
      "   0.   0.   0.   0.   0.   0.   0.   0.   0.   0.   0.   0.   0.   0.\n",
      "   0.   0.   0.   0.   0.   0.   0.   0.   0.   0.   0.   0.   0.   0.\n",
      "   0.   0.   0.   0.   0.   0.   0.   0.   0.   0.   0.   0.   0.   0.\n",
      "   0.   0.   0.   0.   0.   0.   0.   0.   0.   0.   0.   0.   0.   0.] \n",
      "y:  9\n"
     ]
    }
   ],
   "source": [
    "print('X:', X[36000,:],'\\ny: ', y[36000])"
   ]
  },
  {
   "cell_type": "markdown",
   "metadata": {
    "colab_type": "text",
    "id": "90UIitfWUp_L"
   },
   "source": [
    "### You can use the .reshape(28,28) function and plt.imshow() function with the parameters cmap = matplotlib.cm.binary, interpolation=\"nearest\" to make a plot of the number. Be sure to import matplotlib!"
   ]
  },
  {
   "cell_type": "code",
   "execution_count": 16,
   "metadata": {},
   "outputs": [],
   "source": [
    "import matplotlib.pyplot as plt"
   ]
  },
  {
   "cell_type": "code",
   "execution_count": 19,
   "metadata": {
    "colab": {},
    "colab_type": "code",
    "id": "euR2jMOEUp_L"
   },
   "outputs": [
    {
     "data": {
      "text/plain": [
       "<matplotlib.image.AxesImage at 0x2110161b0c8>"
      ]
     },
     "execution_count": 19,
     "metadata": {},
     "output_type": "execute_result"
    },
    {
     "data": {
      "image/png": "[encoded data removed]",
      "text/plain": [
       "<Figure size 432x288 with 1 Axes>"
      ]
     },
     "metadata": {
      "needs_background": "light"
     },
     "output_type": "display_data"
    }
   ],
   "source": [
    "plt.imshow(X[36000,:].reshape(28,28), cmap = plt.cm.binary, interpolation=\"nearest\" )"
   ]
  },
  {
   "cell_type": "markdown",
   "metadata": {
    "colab_type": "text",
    "id": "lg12cNV4Up_O"
   },
   "source": [
    "### Use indexing to see if what the plot shows matches with the outcome of the 36000th index"
   ]
  },
  {
   "cell_type": "code",
   "execution_count": 20,
   "metadata": {
    "colab": {},
    "colab_type": "code",
    "id": "IIrGU5pEUp_O"
   },
   "outputs": [
    {
     "data": {
      "text/plain": [
       "'9'"
      ]
     },
     "execution_count": 20,
     "metadata": {},
     "output_type": "execute_result"
    }
   ],
   "source": [
    "y[36000]\n",
    "#it matches"
   ]
  },
  {
   "cell_type": "markdown",
   "metadata": {
    "colab_type": "text",
    "id": "froaQc03Up_Q"
   },
   "source": [
    "### Now lets break into a test train split to run a classification. Instead of using sklearn, use indexing to select the first 60000 entries for the training, and the rest for training."
   ]
  },
  {
   "cell_type": "code",
   "execution_count": 23,
   "metadata": {
    "colab": {},
    "colab_type": "code",
    "id": "VrOasZSCUp_Q"
   },
   "outputs": [],
   "source": [
    "X_train = X[0:60000,:]\n",
    "X_test = X[60000:,:]"
   ]
  },
  {
   "cell_type": "code",
   "execution_count": 65,
   "metadata": {},
   "outputs": [
    {
     "data": {
      "text/plain": [
       "(60000, 784)"
      ]
     },
     "execution_count": 65,
     "metadata": {},
     "output_type": "execute_result"
    }
   ],
   "source": [
    "X_train.shape"
   ]
  },
  {
   "cell_type": "markdown",
   "metadata": {
    "colab_type": "text",
    "id": "sdyH3KfzUp_T"
   },
   "source": [
    "### We are going to make a two-class classifier, so lets restrict to just one number, for example 5s. Do this by defining a new y training and y testing sets for just the number 5"
   ]
  },
  {
   "cell_type": "code",
   "execution_count": 109,
   "metadata": {
    "colab": {},
    "colab_type": "code",
    "id": "O23sEDJjUp_T"
   },
   "outputs": [],
   "source": [
    "y_train = [1 if number == '5' else 0 for number in y[0:60000]]\n",
    "y_test = [1 if number == '5' else 0 for number in y[60000:]]\n",
    "y_todos = [1 if number == '5' else 0 for number in y]"
   ]
  },
  {
   "cell_type": "code",
   "execution_count": 67,
   "metadata": {},
   "outputs": [
    {
     "data": {
      "text/plain": [
       "60000"
      ]
     },
     "execution_count": 67,
     "metadata": {},
     "output_type": "execute_result"
    }
   ],
   "source": [
    "len(y_train)"
   ]
  },
  {
   "cell_type": "code",
   "execution_count": 71,
   "metadata": {},
   "outputs": [],
   "source": [
    "print(y_train)"
   ]
  },
  {
   "cell_type": "markdown",
   "metadata": {
    "colab_type": "text",
    "id": "X6vQQALZUp_V"
   },
   "source": [
    "### Lets train a logistic regression to predict if a number is a 5 or not (remember to use the 'just 5s' y training set!)"
   ]
  },
  {
   "cell_type": "code",
   "execution_count": 45,
   "metadata": {},
   "outputs": [],
   "source": [
    "from sklearn.linear_model import LogisticRegression"
   ]
  },
  {
   "cell_type": "code",
   "execution_count": 73,
   "metadata": {
    "colab": {},
    "colab_type": "code",
    "id": "KlPavPMzUp_V"
   },
   "outputs": [
    {
     "name": "stderr",
     "output_type": "stream",
     "text": [
      "C:\\Users\\User\\Anaconda3\\lib\\site-packages\\sklearn\\linear_model\\_logistic.py:940: ConvergenceWarning: lbfgs failed to converge (status=1):\n",
      "STOP: TOTAL NO. of ITERATIONS REACHED LIMIT.\n",
      "\n",
      "Increase the number of iterations (max_iter) or scale the data as shown in:\n",
      "    https://scikit-learn.org/stable/modules/preprocessing.html\n",
      "Please also refer to the documentation for alternative solver options:\n",
      "    https://scikit-learn.org/stable/modules/linear_model.html#logistic-regression\n",
      "  extra_warning_msg=_LOGISTIC_SOLVER_CONVERGENCE_MSG)\n"
     ]
    },
    {
     "data": {
      "text/plain": [
       "LogisticRegression(C=1.0, class_weight=None, dual=False, fit_intercept=True,\n",
       "                   intercept_scaling=1, l1_ratio=None, max_iter=100,\n",
       "                   multi_class='auto', n_jobs=None, penalty='l2',\n",
       "                   random_state=None, solver='lbfgs', tol=0.0001, verbose=0,\n",
       "                   warm_start=False)"
      ]
     },
     "execution_count": 73,
     "metadata": {},
     "output_type": "execute_result"
    }
   ],
   "source": [
    "model = LogisticRegression()\n",
    "model.fit(X_train, y_train)"
   ]
  },
  {
   "cell_type": "code",
   "execution_count": 74,
   "metadata": {},
   "outputs": [
    {
     "name": "stdout",
     "output_type": "stream",
     "text": [
      "intercept:  [7.80108161e-05] \n",
      "coef:  [[ 0.00000000e+00  0.00000000e+00  0.00000000e+00  0.00000000e+00\n",
      "   0.00000000e+00  0.00000000e+00  0.00000000e+00  0.00000000e+00\n",
      "   0.00000000e+00  0.00000000e+00  0.00000000e+00  0.00000000e+00\n",
      "  -2.90019028e-06 -6.47939626e-06 -1.43529618e-07 -5.98040074e-09\n",
      "   0.00000000e+00  0.00000000e+00  0.00000000e+00  0.00000000e+00\n",
      "   0.00000000e+00  0.00000000e+00  0.00000000e+00  0.00000000e+00\n",
      "   0.00000000e+00  0.00000000e+00  0.00000000e+00  0.00000000e+00\n",
      "   0.00000000e+00  0.00000000e+00  0.00000000e+00  0.00000000e+00\n",
      "  -1.36967286e-08 -4.39069856e-08 -3.56419295e-06 -6.46717610e-06\n",
      "  -1.39017133e-05 -4.55982544e-05 -2.13476817e-04 -2.00016784e-04\n",
      "  -2.80880627e-04 -2.78262424e-04 -1.49018073e-04 -2.00525086e-04\n",
      "  -1.86329935e-04 -8.88158490e-05 -1.38038928e-04 -1.43272471e-04\n",
      "  -8.50416827e-05 -1.91643029e-05 -2.25250398e-06 -2.10437043e-06\n",
      "   0.00000000e+00  0.00000000e+00  0.00000000e+00  0.00000000e+00\n",
      "   0.00000000e+00  0.00000000e+00 -1.06287898e-07 -1.23967227e-05\n",
      "  -3.68587765e-06 -2.07875360e-06 -9.37431556e-06 -1.04191036e-04\n",
      "  -5.19377634e-04 -9.42572007e-04 -1.73879598e-03 -3.21718431e-03\n",
      "  -3.84962962e-03 -5.04133748e-03 -6.51004731e-03 -5.75425029e-03\n",
      "  -3.68644192e-03 -2.23673862e-03 -1.81220516e-03 -2.80880585e-03\n",
      "  -4.02330772e-03 -3.09601424e-03 -1.68042287e-03 -5.68735045e-04\n",
      "  -2.53467686e-04 -2.73040028e-05  0.00000000e+00  0.00000000e+00\n",
      "   0.00000000e+00  0.00000000e+00 -5.13929519e-07 -7.15952259e-05\n",
      "   3.39649312e-04 -9.04706256e-04 -7.23550821e-04 -1.52649613e-03\n",
      "  -2.33519814e-03 -3.67932350e-03 -2.56189054e-03 -5.35291528e-03\n",
      "  -5.40355296e-04 -3.59037739e-04 -1.61415734e-03 -1.67685392e-03\n",
      "  -2.87569058e-03 -1.37553309e-03 -1.08330223e-03 -1.09987521e-03\n",
      "  -6.49685235e-04  3.37399166e-04 -1.10851571e-03 -6.03421164e-03\n",
      "  -3.50192614e-03 -9.63583242e-05  2.01460301e-05  0.00000000e+00\n",
      "   0.00000000e+00 -2.37973894e-06 -5.73246830e-05 -1.77577700e-04\n",
      "  -1.19311184e-03 -4.50741871e-03 -3.13709434e-03 -6.38326719e-04\n",
      "  -3.58582547e-03 -1.78321453e-03 -8.75852264e-04  5.50017837e-05\n",
      "   5.76942242e-05 -3.38416176e-03 -9.10125905e-04  8.03780114e-04\n",
      "   3.39135138e-04 -1.33551656e-03  9.34063742e-04 -6.82154902e-04\n",
      "  -2.94401497e-03  2.96401530e-03 -8.10780685e-04  1.34938924e-03\n",
      "   3.96223870e-03  2.90328004e-04 -2.20724588e-04 -1.48685306e-04\n",
      "   0.00000000e+00  0.00000000e+00 -1.32843736e-04 -6.57399448e-04\n",
      "  -3.90626301e-03 -3.99665873e-03 -3.43306561e-03 -2.73678477e-05\n",
      "  -1.84392416e-04  1.94400476e-04 -1.25584669e-04  4.68720569e-04\n",
      "  -1.40668808e-03 -3.48168799e-04 -4.06398620e-04 -1.03249229e-03\n",
      "   9.48138057e-05  7.87297678e-05  6.27302995e-04 -1.63797269e-03\n",
      "   3.93620235e-03 -1.40214354e-03  3.02006237e-03  5.60845520e-05\n",
      "   8.33531734e-04  9.50212997e-05  1.37463269e-03 -1.35412011e-04\n",
      "   0.00000000e+00 -4.43577908e-07  1.04518422e-04 -2.31683748e-03\n",
      "  -3.39479441e-03  1.55606017e-03  7.17228054e-04 -1.74098819e-03\n",
      "  -2.43122522e-03  1.10135998e-04 -8.88330453e-04 -4.65147378e-04\n",
      "  -2.23016485e-04 -7.96396179e-04  5.86517048e-04 -1.12249594e-03\n",
      "  -7.95897792e-04 -2.69520213e-04 -3.04811919e-04  1.74411542e-03\n",
      "   3.77098945e-04 -1.40209683e-03  1.74944670e-03  7.41317039e-04\n",
      "   4.70938891e-03  3.97884505e-04  1.42413257e-03  2.29660521e-04\n",
      "  -3.62037954e-08 -3.14016178e-05 -2.03591705e-04 -2.76057068e-03\n",
      "  -8.23886031e-03 -1.68140474e-03 -1.58007264e-03 -8.72015296e-05\n",
      "   1.82262066e-03 -1.43781867e-03  2.15291467e-03 -7.97752283e-05\n",
      "   9.94148216e-04 -1.91164009e-03  1.53384397e-03 -2.34230947e-03\n",
      "   6.26114219e-04 -1.95783772e-04  9.05458990e-04 -1.41580628e-03\n",
      "  -3.15530198e-04  2.41539390e-03  1.92151591e-03  3.98319610e-04\n",
      "   1.53316864e-03  6.23966421e-03 -3.25317976e-03  3.53261097e-04\n",
      "  -2.49770174e-07 -1.89478476e-05 -4.97522515e-04 -3.67597652e-03\n",
      "  -1.01211726e-02 -1.12099036e-03 -3.68359853e-04 -1.62039026e-03\n",
      "   1.35525875e-03 -3.95572359e-04  8.44363886e-04  9.76878351e-04\n",
      "  -1.43176202e-04 -4.57029981e-04 -1.36095633e-03 -2.98814467e-04\n",
      "  -1.17802203e-03  3.56380390e-04 -9.46451127e-04  1.52726256e-03\n",
      "   1.61636516e-03  5.31246910e-04 -3.00888094e-03  3.48900987e-03\n",
      "   5.03886226e-03  4.53320472e-03  6.12497638e-04 -8.31066244e-04\n",
      "  -1.44792824e-05 -7.40958531e-05 -5.15037375e-04 -3.75967646e-03\n",
      "  -5.25651636e-03  7.22526803e-04  4.09874360e-04 -8.76420293e-04\n",
      "  -3.65287581e-04  2.52064586e-04 -7.20434091e-04  2.04684067e-03\n",
      "   6.21874808e-04 -4.78428044e-04 -1.10541676e-03 -2.08661534e-03\n",
      "  -2.20396349e-03 -1.47638149e-03 -8.74273575e-04 -1.31830316e-03\n",
      "  -1.15711016e-03  4.22006326e-03  4.52382594e-03 -5.01982658e-04\n",
      "   5.93854673e-03  5.68144272e-04  2.50058958e-04 -3.50194611e-04\n",
      "  -1.78092038e-05 -1.71413547e-04 -6.21878771e-04 -3.53941592e-03\n",
      "  -1.52401311e-04 -1.77909983e-03 -1.94232570e-03  2.77659574e-03\n",
      "   1.85334682e-03  2.43651181e-03  1.32008415e-03  9.51957156e-04\n",
      "   2.38050227e-03  1.43970011e-03 -1.10676204e-03  7.28186173e-04\n",
      "  -1.83522601e-03 -1.84726776e-03 -2.77224631e-03 -2.99234391e-03\n",
      "  -3.88039095e-03 -1.21880088e-03  2.22482765e-03  2.67958364e-03\n",
      "   1.01556761e-02  1.32178588e-02  4.99573192e-03 -4.21033294e-04\n",
      "  -1.78829729e-05 -9.26466824e-04 -1.59482484e-03 -4.84943503e-03\n",
      "  -1.10111129e-03 -1.92996479e-03  3.07456073e-03 -6.65572561e-04\n",
      "   4.16229537e-04  6.97967250e-04  1.26345344e-03  1.01733096e-03\n",
      "   4.44163895e-04  1.70737428e-03 -2.40955167e-04 -1.14202616e-03\n",
      "   3.00676208e-05 -1.53337984e-03 -5.81143842e-04 -1.57183331e-03\n",
      "  -5.76817257e-03 -1.03757785e-02 -7.44189449e-03  4.87685044e-03\n",
      "   1.00496902e-02  1.92770785e-02  6.04352578e-03  3.23482340e-05\n",
      "  -2.99444931e-06 -7.89563384e-04 -1.49530538e-03 -2.22341246e-03\n",
      "  -8.95861244e-05 -1.26996379e-03  3.34349408e-03 -1.62507618e-05\n",
      "   1.18657374e-03 -1.23384177e-03  1.33998254e-03  8.73087506e-04\n",
      "   6.52690255e-04  1.90673867e-03 -1.67567121e-03  1.11782517e-03\n",
      "  -1.44155115e-03 -1.87444102e-03 -1.34515502e-03 -3.14037870e-03\n",
      "   5.91655108e-04 -5.57862412e-03 -1.65766131e-02 -2.39339783e-02\n",
      "  -2.81544615e-02 -2.23776896e-03  5.11924876e-03 -8.21543016e-05\n",
      "  -8.00868787e-07 -2.14845490e-04 -6.44445074e-04 -3.44471076e-05\n",
      "   1.69580069e-03  3.13736569e-03 -1.21843388e-03  2.10777048e-03\n",
      "  -6.68644364e-04  1.16283195e-03 -5.85271334e-05  1.25610764e-03\n",
      "   1.77927824e-03  1.11975524e-03 -2.25902080e-03 -1.08241180e-03\n",
      "  -2.09691664e-03 -2.08050960e-03 -8.40769138e-06  7.23814448e-04\n",
      "  -4.06483161e-04  5.98662182e-04  2.99574696e-03 -1.38415761e-02\n",
      "  -2.19979855e-02 -8.73549369e-03  2.85961128e-04 -2.62807011e-04\n",
      "   3.84169324e-04 -9.22772694e-05 -2.26900665e-04  2.41117287e-04\n",
      "   1.69116885e-03  4.73174268e-04 -1.86685643e-03 -1.23859578e-03\n",
      "  -3.94455221e-04  1.64654377e-04  2.18685488e-03 -4.86468218e-04\n",
      "   1.40448484e-03 -6.48715813e-04 -1.93243757e-04 -1.13373546e-04\n",
      "  -1.08014761e-03 -8.30306879e-04 -9.27546388e-04 -2.40511234e-03\n",
      "   1.25445315e-03 -3.47899278e-03  1.99280982e-03  4.94420326e-03\n",
      "  -1.31427565e-03 -9.01995014e-03 -8.22459000e-04 -3.65358381e-05\n",
      "   1.09151002e-04 -8.03166695e-06 -1.59564877e-04 -1.02347735e-03\n",
      "   7.82309375e-04 -2.66375008e-03 -7.79985111e-04 -4.22015828e-04\n",
      "   1.08587933e-03  1.23588303e-03 -2.32566394e-04  9.67640043e-05\n",
      "   1.33710702e-03 -1.76767036e-03 -2.49737146e-03 -1.42301965e-03\n",
      "   2.16023271e-04 -2.56751222e-03  2.49955628e-03 -8.77616214e-04\n",
      "  -3.22839237e-04  9.02382199e-04 -3.61304978e-03  2.04566524e-03\n",
      "   5.16815742e-03 -6.39052517e-03 -1.90060624e-03 -3.29974553e-04\n",
      "  -9.50797357e-05 -6.94509652e-06 -2.93678023e-04 -4.11686388e-04\n",
      "  -1.23926163e-03 -2.61353406e-04 -2.63219906e-03 -3.86006279e-03\n",
      "  -2.44240860e-03 -1.17128718e-03  4.64998196e-04 -8.36904830e-04\n",
      "   5.55295693e-04  3.21362084e-04 -1.71953296e-03 -1.44213961e-04\n",
      "  -2.46169583e-03  2.54008813e-06 -3.02133595e-03 -7.22184880e-05\n",
      "   3.16755928e-04 -1.18820303e-03  2.67686795e-03 -6.77508388e-04\n",
      "  -3.76799713e-04 -6.70850193e-03 -3.67053107e-03 -7.07072116e-04\n",
      "   0.00000000e+00 -1.19819102e-05 -8.12585965e-04 -1.15116414e-03\n",
      "  -1.51960086e-03  1.62459690e-03  5.15574384e-03 -1.86073246e-03\n",
      "  -4.00798649e-04 -2.26288928e-03 -2.38408117e-03 -2.04309766e-03\n",
      "  -3.40324564e-03 -2.20740945e-03 -3.11343953e-03 -4.34689104e-04\n",
      "   4.58748980e-04 -1.53639748e-04  2.91827673e-03 -4.37453825e-04\n",
      "   2.55591669e-04  6.88847775e-04 -1.01469747e-03 -3.37607042e-04\n",
      "   1.20462871e-03 -7.08491231e-03 -2.00876584e-03 -8.88024236e-05\n",
      "  -6.71650171e-06 -4.85743783e-05 -1.21302085e-03 -2.36192272e-03\n",
      "   2.22820799e-03  8.61766236e-05  1.73191026e-03  1.68729616e-03\n",
      "  -2.01652441e-03 -1.69350046e-03 -3.07595295e-03 -2.47830818e-03\n",
      "   7.50585512e-04 -5.38833154e-04  1.56803457e-03 -1.02341132e-03\n",
      "  -4.39161859e-04  1.72354248e-03 -1.79222987e-03  8.91892628e-04\n",
      "   5.22714005e-04 -2.36791745e-05  1.87171831e-03  1.37794857e-05\n",
      "   1.22522156e-03 -5.79722741e-03 -1.38384126e-03 -4.18691200e-04\n",
      "  -4.09410014e-08 -1.13665209e-04  1.08824742e-03 -1.30331741e-03\n",
      "   2.78399596e-03 -1.87043460e-03  1.15931357e-03 -1.16968406e-04\n",
      "   2.38939850e-03  1.46921933e-04  1.19680960e-03 -4.07378434e-04\n",
      "   5.45928311e-04 -1.12580660e-04 -1.14699115e-03  2.36006453e-03\n",
      "  -9.71910638e-04 -1.06874476e-03  2.97830290e-04 -1.60325421e-03\n",
      "   1.01885540e-03  4.99490739e-04 -1.09443757e-03  1.44112755e-03\n",
      "   2.06340130e-03 -4.17100543e-03 -2.07841252e-03 -2.90322054e-04\n",
      "   0.00000000e+00 -7.02127161e-05  4.34073974e-04 -1.16811516e-03\n",
      "  -7.94964741e-04  1.85207284e-03  1.76869636e-04 -4.35531709e-04\n",
      "   3.31752980e-04  1.36933914e-03 -8.07820127e-04  2.95844017e-03\n",
      "  -1.12446986e-03  8.35890412e-04 -1.16589775e-03 -1.71418592e-03\n",
      "   1.34254329e-03  3.79335862e-04  7.34831836e-04  1.44698208e-03\n",
      "  -1.19271582e-03 -3.06508947e-03  3.94024301e-03  5.24650380e-04\n",
      "  -1.32549602e-03 -2.44651218e-04 -8.41717451e-04  2.65311301e-06\n",
      "  -1.24176488e-07 -5.10197158e-05 -1.62772565e-03 -2.08229787e-03\n",
      "   1.44318041e-03 -4.15219694e-05  3.83159434e-04  9.50607386e-05\n",
      "   8.39391552e-04  8.88749771e-04  3.58874315e-04  9.18358652e-04\n",
      "  -5.17326971e-04  7.89702722e-04  2.91954111e-04  5.71539025e-04\n",
      "  -1.48626214e-03  1.02892446e-03 -8.79504710e-04 -6.81560454e-04\n",
      "   3.85589799e-03  3.48322695e-03  2.66977563e-03 -4.14301193e-05\n",
      "   2.19393398e-04  6.63954636e-04 -1.24022599e-04 -4.97218913e-08\n",
      "  -1.20295973e-07 -3.94454103e-06 -1.19001682e-03 -3.63017544e-03\n",
      "   7.05244238e-04 -1.45803430e-03 -1.70936891e-03  1.41333577e-03\n",
      "  -4.27545416e-04  8.90007209e-04 -7.43274432e-04  2.65764671e-04\n",
      "   1.82177520e-03 -2.22358704e-04  3.08201834e-04 -6.61022720e-04\n",
      "   1.59716261e-03 -2.43380475e-03  3.61378413e-03  1.17798740e-04\n",
      "  -2.29992134e-04 -5.67033320e-04  3.35820677e-04  1.80113829e-03\n",
      "   1.02583627e-03  1.12590794e-03  7.05286742e-04 -9.17942608e-08\n",
      "   0.00000000e+00  0.00000000e+00 -2.66199861e-04 -1.30418201e-03\n",
      "   5.02345580e-04  4.31706009e-03  1.91803147e-03 -3.76380127e-03\n",
      "   1.36546179e-03 -1.37042392e-03  2.21517072e-03 -3.79887218e-04\n",
      "   3.13357181e-04  2.47937969e-05  9.27110792e-04 -9.72736685e-04\n",
      "   1.28297192e-03 -6.06596631e-04 -3.33286421e-03 -1.05200028e-03\n",
      "   1.99295020e-03 -7.05491479e-04  9.19072440e-05  1.20909097e-03\n",
      "   1.10036086e-03  1.30196912e-03  4.14203776e-04  0.00000000e+00\n",
      "   0.00000000e+00  0.00000000e+00 -8.52929574e-05 -3.25185272e-04\n",
      "  -2.12767039e-03 -1.00027955e-03 -1.53910257e-03  1.26984417e-03\n",
      "  -1.26207711e-03  3.10224098e-03 -1.73963536e-03  6.89000067e-04\n",
      "  -9.72038638e-05  4.56697062e-04  1.01074367e-03  9.95371881e-04\n",
      "  -2.11480072e-03  1.45995911e-03  1.67908782e-03 -8.40993208e-04\n",
      "  -8.50309084e-04 -2.57802395e-03  3.31638697e-04 -1.72770755e-03\n",
      "   1.00301075e-04 -8.95144615e-04 -8.03122587e-05  0.00000000e+00\n",
      "   0.00000000e+00  0.00000000e+00 -5.44925880e-07  5.06312042e-04\n",
      "   7.09858185e-04 -1.21243860e-03 -1.18812657e-03 -5.64301794e-04\n",
      "  -2.27685417e-03  1.00665484e-03 -2.44706295e-04  5.48205990e-04\n",
      "  -3.50577618e-04  1.51793633e-03 -2.17153091e-03  1.95055106e-03\n",
      "  -1.04136189e-04  1.47063913e-04  1.06007362e-04 -6.63990741e-04\n",
      "  -2.01963292e-03 -7.07544062e-04  2.85455349e-03  2.97846453e-03\n",
      "   2.29103746e-03 -5.99615103e-07 -6.19962777e-07  0.00000000e+00\n",
      "   0.00000000e+00  0.00000000e+00  0.00000000e+00 -2.21228103e-07\n",
      "  -2.59240039e-05 -2.06390061e-04 -1.81693032e-03 -4.45598587e-03\n",
      "  -6.87568388e-03 -4.45051013e-03 -3.28655968e-03 -1.53950866e-03\n",
      "  -1.63506622e-03 -1.84189072e-03 -4.09607864e-03 -2.13766713e-03\n",
      "  -2.38851344e-03 -3.48270530e-03 -4.72518390e-03 -2.44485560e-03\n",
      "  -1.01801872e-03 -2.58695072e-03 -1.05054201e-03 -3.01526094e-05\n",
      "  -6.83100177e-06 -9.96122768e-08  0.00000000e+00  0.00000000e+00\n",
      "   0.00000000e+00  0.00000000e+00  0.00000000e+00  0.00000000e+00\n",
      "  -1.77403212e-07 -3.95053011e-06 -1.95796290e-05 -1.34219902e-04\n",
      "  -2.28671335e-04 -1.82441124e-04  1.03792144e-04  5.26986165e-04\n",
      "  -2.33101162e-05 -1.49712251e-03 -2.08150766e-03 -1.54706705e-03\n",
      "  -1.45393440e-03 -1.09699952e-03 -9.05584965e-04 -4.80870476e-04\n",
      "  -4.31588807e-04 -1.19377101e-03 -6.86123249e-04 -4.24429882e-06\n",
      "   0.00000000e+00  0.00000000e+00  0.00000000e+00  0.00000000e+00]]\n"
     ]
    }
   ],
   "source": [
    "print('intercept: ', model.intercept_,'\\ncoef: ', model.coef_)"
   ]
  },
  {
   "cell_type": "markdown",
   "metadata": {
    "colab_type": "text",
    "id": "jmXXgi5TUp_X"
   },
   "source": [
    "### Does the classifier predict correctly the 36000th digit we picked before?"
   ]
  },
  {
   "cell_type": "code",
   "execution_count": 75,
   "metadata": {
    "colab": {},
    "colab_type": "code",
    "id": "8MlPuH2SUp_Y"
   },
   "outputs": [
    {
     "data": {
      "text/plain": [
       "0"
      ]
     },
     "execution_count": 75,
     "metadata": {},
     "output_type": "execute_result"
    }
   ],
   "source": [
    "model.predict(X_train)[36000]"
   ]
  },
  {
   "cell_type": "code",
   "execution_count": null,
   "metadata": {},
   "outputs": [],
   "source": [
    "# yes"
   ]
  },
  {
   "cell_type": "code",
   "execution_count": 77,
   "metadata": {},
   "outputs": [
    {
     "data": {
      "text/plain": [
       "819"
      ]
     },
     "execution_count": 77,
     "metadata": {},
     "output_type": "execute_result"
    }
   ],
   "source": [
    "#quantidade prevista de 5\n",
    "model.predict(X_test).sum()"
   ]
  },
  {
   "cell_type": "code",
   "execution_count": 87,
   "metadata": {},
   "outputs": [
    {
     "data": {
      "text/plain": [
       "1"
      ]
     },
     "execution_count": 87,
     "metadata": {},
     "output_type": "execute_result"
    }
   ],
   "source": [
    "model.predict(X_test)[-2]"
   ]
  },
  {
   "cell_type": "code",
   "execution_count": 80,
   "metadata": {},
   "outputs": [
    {
     "data": {
      "text/plain": [
       "892"
      ]
     },
     "execution_count": 80,
     "metadata": {},
     "output_type": "execute_result"
    }
   ],
   "source": [
    "##quantidade total de 5, nao necessariamente são os mesmos. modelo previu ter 819 no total enquanto são 892\n",
    "#modelo pode ter previsto algo que não era 5 como 5.\n",
    "sum(y_test)"
   ]
  },
  {
   "cell_type": "markdown",
   "metadata": {
    "colab_type": "text",
    "id": "ALx4JWkFUp_a"
   },
   "source": [
    "### To make some comparisons, we are going to make a very dumb classifier, that never predicts 5s. Build the classifier with the code below, and call it using: never_5_clf = Never5Classifier()"
   ]
  },
  {
   "cell_type": "code",
   "execution_count": 61,
   "metadata": {
    "colab": {},
    "colab_type": "code",
    "id": "7X7WdYMtUp_b"
   },
   "outputs": [],
   "source": [
    "from sklearn.base import BaseEstimator\n",
    "class Never5Classifier(BaseEstimator):\n",
    "    def __init__(self):\n",
    "        pass\n",
    "    def fit(self, X, y=None):\n",
    "        pass\n",
    "    def predict(self, X):\n",
    "        return np.zeros((len(X), 1), dtype=bool)\n",
    "    def score(self, X, y):\n",
    "        from sklearn.metrics import accuracy_score\n",
    "        return accuracy_score(self.predict(X), y)\n",
    "\n",
    "never_5_clf = Never5Classifier()"
   ]
  },
  {
   "cell_type": "markdown",
   "metadata": {
    "colab_type": "text",
    "id": "6b5bZIcXUp_d"
   },
   "source": [
    "### Now lets fit and predict on the testing set using our never 5 Classifier"
   ]
  },
  {
   "cell_type": "code",
   "execution_count": 62,
   "metadata": {
    "colab": {},
    "colab_type": "code",
    "id": "YAP7A9LlUp_e"
   },
   "outputs": [
    {
     "data": {
      "text/plain": [
       "0.0"
      ]
     },
     "execution_count": 62,
     "metadata": {},
     "output_type": "execute_result"
    }
   ],
   "source": [
    "dumb = Never5Classifier()\n",
    "\n",
    "dumb.fit(X, y)\n",
    "dumb.score(X, y)"
   ]
  },
  {
   "cell_type": "markdown",
   "metadata": {
    "colab_type": "text",
    "id": "VrYZYL3aUp_g"
   },
   "source": [
    "### Let's compare this to the Logistic Regression. Examine the confusion matrix, precision, recall, and f1_scores for each. What is the probability cutoff you are using to decide the classes?"
   ]
  },
  {
   "cell_type": "code",
   "execution_count": 88,
   "metadata": {},
   "outputs": [],
   "source": [
    "from sklearn.metrics import plot_confusion_matrix, confusion_matrix"
   ]
  },
  {
   "cell_type": "markdown",
   "metadata": {},
   "source": [
    "##### para os testes"
   ]
  },
  {
   "cell_type": "code",
   "execution_count": 89,
   "metadata": {
    "colab": {},
    "colab_type": "code",
    "id": "g9aPqBXOUp_g"
   },
   "outputs": [
    {
     "data": {
      "text/plain": [
       "array([[9034,   74],\n",
       "       [ 147,  745]], dtype=int64)"
      ]
     },
     "execution_count": 89,
     "metadata": {},
     "output_type": "execute_result"
    }
   ],
   "source": [
    "confusion_matrix(y_test, model.predict(X_test))"
   ]
  },
  {
   "cell_type": "code",
   "execution_count": 90,
   "metadata": {},
   "outputs": [
    {
     "data": {
      "text/plain": [
       "<sklearn.metrics._plot.confusion_matrix.ConfusionMatrixDisplay at 0x21102e53188>"
      ]
     },
     "execution_count": 90,
     "metadata": {},
     "output_type": "execute_result"
    },
    {
     "data": {
      "image/png": "[encoded data removed]",
      "text/plain": [
       "<Figure size 432x288 with 2 Axes>"
      ]
     },
     "metadata": {
      "needs_background": "light"
     },
     "output_type": "display_data"
    }
   ],
   "source": [
    "plot_confusion_matrix(model, X_test, y_test, values_format='.0f')"
   ]
  },
  {
   "cell_type": "code",
   "execution_count": 91,
   "metadata": {},
   "outputs": [],
   "source": [
    "from sklearn.metrics import precision_score, recall_score\n",
    "from sklearn.metrics import f1_score, fbeta_score"
   ]
  },
  {
   "cell_type": "code",
   "execution_count": 119,
   "metadata": {},
   "outputs": [],
   "source": [
    "precision_test = precision_score(y_test, model.predict(X_test))\n",
    "recall_test = recall_score(y_test, model.predict(X_test))\n",
    "f1_test = f1_score(y_test, model.predict(X_test))"
   ]
  },
  {
   "cell_type": "code",
   "execution_count": 120,
   "metadata": {},
   "outputs": [
    {
     "name": "stdout",
     "output_type": "stream",
     "text": [
      "Precision: 0.9096459096459096 \n",
      "Recall: 0.8352017937219731 \n",
      "F1: 0.8708357685563999\n"
     ]
    }
   ],
   "source": [
    "print('Precision:',precision_test ,'\\nRecall:', recall_test,'\\nF1:',f1_test)"
   ]
  },
  {
   "cell_type": "markdown",
   "metadata": {},
   "source": [
    "##### De todos os valores (apenas para o valor 5)"
   ]
  },
  {
   "cell_type": "code",
   "execution_count": 115,
   "metadata": {},
   "outputs": [],
   "source": [
    "precision_todos = precision_score(y_todos, model.predict(X))\n",
    "recall_todos = recall_score(y_todos, model.predict(X))\n",
    "f1_todos = f1_score(y_todos, model.predict(X))"
   ]
  },
  {
   "cell_type": "code",
   "execution_count": 118,
   "metadata": {},
   "outputs": [
    {
     "name": "stdout",
     "output_type": "stream",
     "text": [
      "Precision: 0.9132095122374587 \n",
      "Recall: 0.8333597338824648 \n",
      "F1: 0.8714593341063442\n"
     ]
    }
   ],
   "source": [
    "print('Precision:',precision_todos ,'\\nRecall:', recall_todos,'\\nF1:',f1_todos)"
   ]
  },
  {
   "cell_type": "markdown",
   "metadata": {
    "colab_type": "text",
    "id": "lvbi-m47Up_i"
   },
   "source": [
    "### What are the differences you see? Without knowing what each model is, what can these metrics tell you about how well each works?"
   ]
  },
  {
   "cell_type": "markdown",
   "metadata": {
    "colab": {},
    "colab_type": "code",
    "id": "t4JycFxNUp_i"
   },
   "source": [
    "Precision: from those who my model said it is 5, i got ~91% correct\n",
    "\n",
    "Recall:  from all 5's in the dataset, i got ~84% correct\n",
    "\n",
    "F1: from harmonic mean, i got ~87%. It means i got most of the 5's from the dataset in my model and from those i said its a 5 i got right with a lot of them"
   ]
  },
  {
   "cell_type": "markdown",
   "metadata": {
    "colab_type": "text",
    "id": "szmx0qxBUp_k"
   },
   "source": [
    "### Now let's examine the roc_curve for each. Use the roc_curve method from sklearn.metrics to help plot the curve for each"
   ]
  },
  {
   "cell_type": "code",
   "execution_count": 122,
   "metadata": {
    "colab": {},
    "colab_type": "code",
    "id": "0ObckzQRUp_k"
   },
   "outputs": [],
   "source": [
    "from sklearn.metrics import plot_roc_curve, roc_auc_score, roc_curve"
   ]
  },
  {
   "cell_type": "code",
   "execution_count": 136,
   "metadata": {},
   "outputs": [
    {
     "data": {
      "text/plain": [
       "(array([0.00000000e+00, 0.00000000e+00, 0.00000000e+00, 1.09793588e-04,\n",
       "        1.09793588e-04, 2.19587176e-04, 2.19587176e-04, 3.29380764e-04,\n",
       "        3.29380764e-04, 4.39174352e-04, 4.39174352e-04, 5.48967940e-04,\n",
       "        5.48967940e-04, 6.58761528e-04, 6.58761528e-04, 7.68555116e-04,\n",
       "        7.68555116e-04, 8.78348704e-04, 8.78348704e-04, 9.88142292e-04,\n",
       "        9.88142292e-04, 1.09793588e-03, 1.09793588e-03, 1.20772947e-03,\n",
       "        1.20772947e-03, 1.31752306e-03, 1.31752306e-03, 1.42731664e-03,\n",
       "        1.42731664e-03, 1.53711023e-03, 1.53711023e-03, 1.64690382e-03,\n",
       "        1.64690382e-03, 1.75669741e-03, 1.75669741e-03, 1.86649100e-03,\n",
       "        1.86649100e-03, 1.97628458e-03, 1.97628458e-03, 2.08607817e-03,\n",
       "        2.08607817e-03, 2.19587176e-03, 2.19587176e-03, 2.30566535e-03,\n",
       "        2.30566535e-03, 2.41545894e-03, 2.41545894e-03, 2.52525253e-03,\n",
       "        2.52525253e-03, 2.63504611e-03, 2.63504611e-03, 2.74483970e-03,\n",
       "        2.74483970e-03, 2.96442688e-03, 2.96442688e-03, 3.07422047e-03,\n",
       "        3.07422047e-03, 3.18401405e-03, 3.18401405e-03, 3.29380764e-03,\n",
       "        3.29380764e-03, 3.40360123e-03, 3.40360123e-03, 3.51339482e-03,\n",
       "        3.51339482e-03, 3.62318841e-03, 3.62318841e-03, 3.73298199e-03,\n",
       "        3.73298199e-03, 3.95256917e-03, 3.95256917e-03, 4.06236276e-03,\n",
       "        4.06236276e-03, 4.17215635e-03, 4.17215635e-03, 4.28194993e-03,\n",
       "        4.28194993e-03, 4.39174352e-03, 4.39174352e-03, 4.50153711e-03,\n",
       "        4.50153711e-03, 4.83091787e-03, 4.83091787e-03, 4.94071146e-03,\n",
       "        4.94071146e-03, 5.16029864e-03, 5.16029864e-03, 5.27009223e-03,\n",
       "        5.27009223e-03, 5.37988581e-03, 5.37988581e-03, 5.48967940e-03,\n",
       "        5.48967940e-03, 5.59947299e-03, 5.59947299e-03, 5.92885375e-03,\n",
       "        5.92885375e-03, 6.03864734e-03, 6.03864734e-03, 6.14844093e-03,\n",
       "        6.14844093e-03, 6.36802811e-03, 6.36802811e-03, 6.47782170e-03,\n",
       "        6.47782170e-03, 6.58761528e-03, 6.58761528e-03, 6.69740887e-03,\n",
       "        6.69740887e-03, 6.80720246e-03, 6.80720246e-03, 6.91699605e-03,\n",
       "        6.91699605e-03, 7.02678964e-03, 7.02678964e-03, 7.13658322e-03,\n",
       "        7.13658322e-03, 7.24637681e-03, 7.24637681e-03, 7.46596399e-03,\n",
       "        7.46596399e-03, 7.57575758e-03, 7.57575758e-03, 7.68555116e-03,\n",
       "        7.68555116e-03, 7.79534475e-03, 7.79534475e-03, 7.90513834e-03,\n",
       "        7.90513834e-03, 8.12472552e-03, 8.12472552e-03, 8.56389987e-03,\n",
       "        8.56389987e-03, 8.78348704e-03, 8.78348704e-03, 9.00307422e-03,\n",
       "        9.00307422e-03, 9.11286781e-03, 9.11286781e-03, 9.44224857e-03,\n",
       "        9.44224857e-03, 9.66183575e-03, 9.66183575e-03, 9.88142292e-03,\n",
       "        9.88142292e-03, 1.01010101e-02, 1.01010101e-02, 1.11989460e-02,\n",
       "        1.11989460e-02, 1.13087396e-02, 1.13087396e-02, 1.16381203e-02,\n",
       "        1.16381203e-02, 1.17479139e-02, 1.17479139e-02, 1.18577075e-02,\n",
       "        1.18577075e-02, 1.20772947e-02, 1.20772947e-02, 1.25164690e-02,\n",
       "        1.25164690e-02, 1.28458498e-02, 1.28458498e-02, 1.31752306e-02,\n",
       "        1.31752306e-02, 1.36144049e-02, 1.36144049e-02, 1.40535793e-02,\n",
       "        1.40535793e-02, 1.46025472e-02, 1.46025472e-02, 1.52613087e-02,\n",
       "        1.52613087e-02, 1.54808959e-02, 1.54808959e-02, 1.55906895e-02,\n",
       "        1.55906895e-02, 1.59200703e-02, 1.59200703e-02, 1.65788318e-02,\n",
       "        1.65788318e-02, 1.67984190e-02, 1.67984190e-02, 1.70180061e-02,\n",
       "        1.70180061e-02, 1.71277997e-02, 1.71277997e-02, 1.72375933e-02,\n",
       "        1.72375933e-02, 1.81159420e-02, 1.81159420e-02, 1.99824330e-02,\n",
       "        1.99824330e-02, 2.04216074e-02, 2.04216074e-02, 2.05314010e-02,\n",
       "        2.05314010e-02, 2.18489240e-02, 2.18489240e-02, 2.21783048e-02,\n",
       "        2.21783048e-02, 2.30566535e-02, 2.30566535e-02, 2.43741765e-02,\n",
       "        2.43741765e-02, 2.51427317e-02, 2.51427317e-02, 2.56916996e-02,\n",
       "        2.56916996e-02, 2.58014932e-02, 2.58014932e-02, 2.59112868e-02,\n",
       "        2.59112868e-02, 2.73386034e-02, 2.73386034e-02, 2.76679842e-02,\n",
       "        2.76679842e-02, 2.92050944e-02, 2.92050944e-02, 2.95344752e-02,\n",
       "        2.95344752e-02, 2.97540624e-02, 2.97540624e-02, 3.43653931e-02,\n",
       "        3.43653931e-02, 3.89767238e-02, 3.89767238e-02, 3.93061045e-02,\n",
       "        3.93061045e-02, 3.96354853e-02, 3.96354853e-02, 4.07334212e-02,\n",
       "        4.07334212e-02, 4.10628019e-02, 4.10628019e-02, 4.19411506e-02,\n",
       "        4.19411506e-02, 4.29292929e-02, 4.29292929e-02, 4.30390865e-02,\n",
       "        4.30390865e-02, 4.33684673e-02, 4.33684673e-02, 4.80895916e-02,\n",
       "        4.80895916e-02, 4.95169082e-02, 4.95169082e-02, 4.98462890e-02,\n",
       "        4.98462890e-02, 5.00658762e-02, 5.00658762e-02, 5.12736056e-02,\n",
       "        5.12736056e-02, 5.31400966e-02, 5.31400966e-02, 5.39086517e-02,\n",
       "        5.39086517e-02, 5.52261748e-02, 5.52261748e-02, 5.65436978e-02,\n",
       "        5.65436978e-02, 5.78612209e-02, 5.78612209e-02, 5.84101888e-02,\n",
       "        5.84101888e-02, 5.85199824e-02, 5.85199824e-02, 6.36802811e-02,\n",
       "        6.36802811e-02, 6.47782170e-02, 6.47782170e-02, 6.54369785e-02,\n",
       "        6.54369785e-02, 6.62055336e-02, 6.62055336e-02, 6.70838823e-02,\n",
       "        6.70838823e-02, 6.75230567e-02, 6.75230567e-02, 6.76328502e-02,\n",
       "        6.76328502e-02, 6.79622310e-02, 6.79622310e-02, 7.00483092e-02,\n",
       "        7.00483092e-02, 7.52086078e-02, 7.52086078e-02, 7.71848924e-02,\n",
       "        7.71848924e-02, 8.13570487e-02, 8.13570487e-02, 8.22353975e-02,\n",
       "        8.22353975e-02, 8.72859025e-02, 8.72859025e-02, 8.84936320e-02,\n",
       "        8.84936320e-02, 9.01405358e-02, 9.01405358e-02, 9.24462011e-02,\n",
       "        9.24462011e-02, 9.74967062e-02, 9.74967062e-02, 9.81554677e-02,\n",
       "        9.81554677e-02, 1.00461133e-01, 1.00461133e-01, 1.06499780e-01,\n",
       "        1.06499780e-01, 1.12099253e-01, 1.12099253e-01, 1.17808520e-01,\n",
       "        1.17808520e-01, 1.20663153e-01, 1.20663153e-01, 1.25164690e-01,\n",
       "        1.25164690e-01, 1.29556434e-01, 1.29556434e-01, 1.30654370e-01,\n",
       "        1.30654370e-01, 1.31203338e-01, 1.31203338e-01, 1.37022398e-01,\n",
       "        1.37022398e-01, 1.48660518e-01, 1.48660518e-01, 1.48989899e-01,\n",
       "        1.48989899e-01, 1.49429073e-01, 1.49429073e-01, 1.50636803e-01,\n",
       "        1.50636803e-01, 2.03008344e-01, 2.03008344e-01, 2.08498024e-01,\n",
       "        2.08498024e-01, 2.14536671e-01, 2.14536671e-01, 2.15085639e-01,\n",
       "        2.15085639e-01, 2.23210365e-01, 2.23210365e-01, 2.30676329e-01,\n",
       "        2.30676329e-01, 2.66908213e-01, 2.66908213e-01, 2.90404040e-01,\n",
       "        2.90404040e-01, 3.04018445e-01, 3.04018445e-01, 3.11045235e-01,\n",
       "        3.11045235e-01, 3.25977163e-01, 3.25977163e-01, 3.31247255e-01,\n",
       "        3.31247255e-01, 3.36846728e-01, 3.36846728e-01, 3.87022398e-01,\n",
       "        3.87022398e-01, 4.01844532e-01, 4.01844532e-01, 4.21168204e-01,\n",
       "        4.21168204e-01, 4.22705314e-01, 4.22705314e-01, 4.35770751e-01,\n",
       "        4.35770751e-01, 4.40711462e-01, 4.40711462e-01, 4.78919631e-01,\n",
       "        4.78919631e-01, 5.46113307e-01, 5.46113307e-01, 7.03227931e-01,\n",
       "        7.03227931e-01, 7.38252086e-01, 7.38252086e-01, 8.17632850e-01,\n",
       "        8.17632850e-01, 8.41458059e-01, 8.41458059e-01, 8.67149758e-01,\n",
       "        8.67149758e-01, 9.02613087e-01, 9.02613087e-01, 9.18093983e-01,\n",
       "        9.18093983e-01, 9.54984629e-01, 9.54984629e-01, 9.69367589e-01,\n",
       "        9.69367589e-01, 1.00000000e+00]),\n",
       " array([0.        , 0.00112108, 0.03811659, 0.03811659, 0.08632287,\n",
       "        0.08632287, 0.14798206, 0.14798206, 0.22197309, 0.22197309,\n",
       "        0.30044843, 0.30044843, 0.40022422, 0.40022422, 0.48318386,\n",
       "        0.48318386, 0.49663677, 0.49663677, 0.49775785, 0.49775785,\n",
       "        0.5190583 , 0.5190583 , 0.52017937, 0.52017937, 0.52578475,\n",
       "        0.52578475, 0.57511211, 0.57511211, 0.57735426, 0.57735426,\n",
       "        0.57959641, 0.57959641, 0.60313901, 0.60313901, 0.62443946,\n",
       "        0.62443946, 0.63340807, 0.63340807, 0.63565022, 0.63565022,\n",
       "        0.63901345, 0.63901345, 0.65470852, 0.65470852, 0.65807175,\n",
       "        0.65807175, 0.66591928, 0.66591928, 0.67040359, 0.67040359,\n",
       "        0.69170404, 0.69170404, 0.69282511, 0.69282511, 0.69843049,\n",
       "        0.69843049, 0.69955157, 0.69955157, 0.71076233, 0.71076233,\n",
       "        0.71412556, 0.71412556, 0.71524664, 0.71524664, 0.72421525,\n",
       "        0.72421525, 0.72982063, 0.72982063, 0.73206278, 0.73206278,\n",
       "        0.73878924, 0.73878924, 0.73991031, 0.73991031, 0.74663677,\n",
       "        0.74663677, 0.75112108, 0.75112108, 0.76233184, 0.76233184,\n",
       "        0.76569507, 0.76569507, 0.76681614, 0.76681614, 0.77130045,\n",
       "        0.77130045, 0.77242152, 0.77242152, 0.78699552, 0.78699552,\n",
       "        0.78923767, 0.78923767, 0.7926009 , 0.7926009 , 0.79932735,\n",
       "        0.79932735, 0.80044843, 0.80044843, 0.80156951, 0.80156951,\n",
       "        0.80269058, 0.80269058, 0.80605381, 0.80605381, 0.81053812,\n",
       "        0.81053812, 0.81165919, 0.81165919, 0.81278027, 0.81278027,\n",
       "        0.8161435 , 0.8161435 , 0.81950673, 0.81950673, 0.8206278 ,\n",
       "        0.8206278 , 0.82399103, 0.82399103, 0.82511211, 0.82511211,\n",
       "        0.82959641, 0.82959641, 0.83071749, 0.83071749, 0.83183857,\n",
       "        0.83183857, 0.83295964, 0.83295964, 0.83520179, 0.83520179,\n",
       "        0.83632287, 0.83632287, 0.83856502, 0.83856502, 0.8396861 ,\n",
       "        0.8396861 , 0.84080717, 0.84080717, 0.84192825, 0.84192825,\n",
       "        0.84304933, 0.84304933, 0.84641256, 0.84641256, 0.84753363,\n",
       "        0.84753363, 0.84865471, 0.84865471, 0.84977578, 0.84977578,\n",
       "        0.85089686, 0.85089686, 0.85426009, 0.85426009, 0.85538117,\n",
       "        0.85538117, 0.85762332, 0.85762332, 0.85874439, 0.85874439,\n",
       "        0.85986547, 0.85986547, 0.86098655, 0.86098655, 0.86210762,\n",
       "        0.86210762, 0.8632287 , 0.8632287 , 0.86434978, 0.86434978,\n",
       "        0.86547085, 0.86547085, 0.86659193, 0.86659193, 0.867713  ,\n",
       "        0.867713  , 0.86883408, 0.86883408, 0.86995516, 0.86995516,\n",
       "        0.87107623, 0.87107623, 0.87219731, 0.87219731, 0.87331839,\n",
       "        0.87331839, 0.87556054, 0.87556054, 0.87892377, 0.87892377,\n",
       "        0.88004484, 0.88004484, 0.88116592, 0.88116592, 0.882287  ,\n",
       "        0.882287  , 0.88340807, 0.88340807, 0.88452915, 0.88452915,\n",
       "        0.88565022, 0.88565022, 0.8867713 , 0.8867713 , 0.88789238,\n",
       "        0.88789238, 0.88901345, 0.88901345, 0.89013453, 0.89013453,\n",
       "        0.89125561, 0.89125561, 0.89237668, 0.89237668, 0.89349776,\n",
       "        0.89349776, 0.89798206, 0.89798206, 0.89910314, 0.89910314,\n",
       "        0.90022422, 0.90022422, 0.90134529, 0.90134529, 0.90246637,\n",
       "        0.90246637, 0.90358744, 0.90358744, 0.90470852, 0.90470852,\n",
       "        0.9058296 , 0.9058296 , 0.90695067, 0.90695067, 0.90807175,\n",
       "        0.90807175, 0.90919283, 0.90919283, 0.9103139 , 0.9103139 ,\n",
       "        0.91143498, 0.91143498, 0.91255605, 0.91255605, 0.91367713,\n",
       "        0.91367713, 0.91479821, 0.91479821, 0.91591928, 0.91591928,\n",
       "        0.91704036, 0.91704036, 0.91816143, 0.91816143, 0.91928251,\n",
       "        0.91928251, 0.92040359, 0.92040359, 0.92264574, 0.92264574,\n",
       "        0.92488789, 0.92488789, 0.92600897, 0.92600897, 0.92713004,\n",
       "        0.92713004, 0.92825112, 0.92825112, 0.9293722 , 0.9293722 ,\n",
       "        0.93049327, 0.93049327, 0.93161435, 0.93161435, 0.93273543,\n",
       "        0.93273543, 0.9338565 , 0.9338565 , 0.93497758, 0.93497758,\n",
       "        0.93609865, 0.93609865, 0.93721973, 0.93721973, 0.93834081,\n",
       "        0.93834081, 0.93946188, 0.93946188, 0.94058296, 0.94058296,\n",
       "        0.94282511, 0.94282511, 0.94394619, 0.94394619, 0.94506726,\n",
       "        0.94506726, 0.94618834, 0.94618834, 0.94730942, 0.94730942,\n",
       "        0.94843049, 0.94843049, 0.94955157, 0.94955157, 0.95067265,\n",
       "        0.95067265, 0.95179372, 0.95179372, 0.9529148 , 0.9529148 ,\n",
       "        0.95403587, 0.95403587, 0.95515695, 0.95515695, 0.95627803,\n",
       "        0.95627803, 0.9573991 , 0.9573991 , 0.95852018, 0.95852018,\n",
       "        0.95964126, 0.95964126, 0.96076233, 0.96076233, 0.96188341,\n",
       "        0.96188341, 0.96300448, 0.96300448, 0.96412556, 0.96412556,\n",
       "        0.96524664, 0.96524664, 0.96636771, 0.96636771, 0.96748879,\n",
       "        0.96748879, 0.96860987, 0.96860987, 0.96973094, 0.96973094,\n",
       "        0.97085202, 0.97085202, 0.97197309, 0.97197309, 0.97309417,\n",
       "        0.97309417, 0.97421525, 0.97421525, 0.97533632, 0.97533632,\n",
       "        0.9764574 , 0.9764574 , 0.97757848, 0.97757848, 0.97869955,\n",
       "        0.97869955, 0.97982063, 0.97982063, 0.9809417 , 0.9809417 ,\n",
       "        0.98206278, 0.98206278, 0.98318386, 0.98318386, 0.98430493,\n",
       "        0.98430493, 0.98542601, 0.98542601, 0.98654709, 0.98654709,\n",
       "        0.98766816, 0.98766816, 0.98878924, 0.98878924, 0.98991031,\n",
       "        0.98991031, 0.99103139, 0.99103139, 0.99215247, 0.99215247,\n",
       "        0.99327354, 0.99327354, 0.99439462, 0.99439462, 0.9955157 ,\n",
       "        0.9955157 , 0.99663677, 0.99663677, 0.99775785, 0.99775785,\n",
       "        0.99887892, 0.99887892, 1.        , 1.        ]),\n",
       " array([1.99999985e+00, 9.99999849e-01, 9.99811892e-01, 9.99810241e-01,\n",
       "        9.98821130e-01, 9.98750839e-01, 9.96790838e-01, 9.96764363e-01,\n",
       "        9.93025922e-01, 9.92969905e-01, 9.85479381e-01, 9.85424213e-01,\n",
       "        9.65484805e-01, 9.65426279e-01, 9.43258183e-01, 9.43231327e-01,\n",
       "        9.38690952e-01, 9.38480087e-01, 9.37195057e-01, 9.36975155e-01,\n",
       "        9.25714822e-01, 9.25580003e-01, 9.25475708e-01, 9.24316781e-01,\n",
       "        9.20894533e-01, 9.20860395e-01, 8.94979167e-01, 8.93841566e-01,\n",
       "        8.92542953e-01, 8.91875134e-01, 8.90685774e-01, 8.89239448e-01,\n",
       "        8.68524230e-01, 8.66199213e-01, 8.51855925e-01, 8.51431908e-01,\n",
       "        8.45287629e-01, 8.44131083e-01, 8.43468690e-01, 8.43362794e-01,\n",
       "        8.41547519e-01, 8.41393412e-01, 8.22565653e-01, 8.22004151e-01,\n",
       "        8.20226269e-01, 8.19321182e-01, 8.11160083e-01, 8.10687887e-01,\n",
       "        8.05601142e-01, 8.03247611e-01, 7.86138835e-01, 7.84759861e-01,\n",
       "        7.84528495e-01, 7.82051365e-01, 7.78396712e-01, 7.77069713e-01,\n",
       "        7.73937489e-01, 7.72296058e-01, 7.60367421e-01, 7.57760018e-01,\n",
       "        7.54590984e-01, 7.54166051e-01, 7.48628155e-01, 7.46312466e-01,\n",
       "        7.40374243e-01, 7.40246058e-01, 7.34837261e-01, 7.27916602e-01,\n",
       "        7.20980761e-01, 7.19070665e-01, 7.10063589e-01, 7.09009372e-01,\n",
       "        7.04856873e-01, 7.02426669e-01, 6.88885442e-01, 6.86671567e-01,\n",
       "        6.82940678e-01, 6.82354324e-01, 6.64145661e-01, 6.63532418e-01,\n",
       "        6.49343659e-01, 6.47378806e-01, 6.44132641e-01, 6.42455771e-01,\n",
       "        6.36409948e-01, 6.28943038e-01, 6.27116263e-01, 6.26564172e-01,\n",
       "        6.04244549e-01, 6.03950732e-01, 6.01006026e-01, 5.99452636e-01,\n",
       "        5.94965818e-01, 5.90433794e-01, 5.80567280e-01, 5.79407085e-01,\n",
       "        5.79187694e-01, 5.78933955e-01, 5.78706924e-01, 5.77134086e-01,\n",
       "        5.75806566e-01, 5.73998683e-01, 5.63000029e-01, 5.62958723e-01,\n",
       "        5.57161131e-01, 5.56966728e-01, 5.54927885e-01, 5.54793814e-01,\n",
       "        5.53709152e-01, 5.53643102e-01, 5.49075739e-01, 5.47725111e-01,\n",
       "        5.43020621e-01, 5.41808050e-01, 5.39841231e-01, 5.39131503e-01,\n",
       "        5.30724926e-01, 5.30647895e-01, 5.28355361e-01, 5.23745566e-01,\n",
       "        5.17432285e-01, 5.16361373e-01, 5.16272163e-01, 5.14505697e-01,\n",
       "        5.13260062e-01, 5.09869015e-01, 5.06526264e-01, 5.04878117e-01,\n",
       "        5.02740813e-01, 5.01754021e-01, 4.96073842e-01, 4.86894815e-01,\n",
       "        4.84470184e-01, 4.80344615e-01, 4.79563430e-01, 4.75399988e-01,\n",
       "        4.74131746e-01, 4.73600199e-01, 4.70005717e-01, 4.64740533e-01,\n",
       "        4.64317267e-01, 4.63502119e-01, 4.53980062e-01, 4.52897866e-01,\n",
       "        4.50190977e-01, 4.42381356e-01, 4.42028486e-01, 4.15997484e-01,\n",
       "        4.14243820e-01, 4.14119369e-01, 4.12704280e-01, 4.06801168e-01,\n",
       "        4.04217332e-01, 4.02089549e-01, 4.00277338e-01, 3.94813905e-01,\n",
       "        3.89813806e-01, 3.88590873e-01, 3.87983703e-01, 3.85555888e-01,\n",
       "        3.81559649e-01, 3.78839627e-01, 3.78426257e-01, 3.74491833e-01,\n",
       "        3.69358624e-01, 3.62971206e-01, 3.61890062e-01, 3.58084696e-01,\n",
       "        3.57269843e-01, 3.52587451e-01, 3.52069167e-01, 3.43033579e-01,\n",
       "        3.42583921e-01, 3.40788459e-01, 3.38385093e-01, 3.38312958e-01,\n",
       "        3.37615766e-01, 3.34737483e-01, 3.33449766e-01, 3.28989091e-01,\n",
       "        3.28327653e-01, 3.27796092e-01, 3.24575012e-01, 3.22950314e-01,\n",
       "        3.21744495e-01, 3.21597890e-01, 3.20141671e-01, 3.17482159e-01,\n",
       "        3.12348493e-01, 3.02257637e-01, 3.01147839e-01, 2.75589571e-01,\n",
       "        2.74403893e-01, 2.72197499e-01, 2.71983809e-01, 2.68991387e-01,\n",
       "        2.68858477e-01, 2.55898495e-01, 2.54453220e-01, 2.53052591e-01,\n",
       "        2.51764713e-01, 2.45050764e-01, 2.42354718e-01, 2.33759236e-01,\n",
       "        2.32933688e-01, 2.28135339e-01, 2.24441982e-01, 2.20164547e-01,\n",
       "        2.19635650e-01, 2.16518799e-01, 2.16067749e-01, 2.14881509e-01,\n",
       "        2.14232571e-01, 2.03760604e-01, 2.03693792e-01, 2.03279580e-01,\n",
       "        2.00013091e-01, 1.93938055e-01, 1.93785548e-01, 1.92527220e-01,\n",
       "        1.92412992e-01, 1.89637158e-01, 1.89318026e-01, 1.64601909e-01,\n",
       "        1.64113833e-01, 1.45613353e-01, 1.43772387e-01, 1.43047739e-01,\n",
       "        1.42705097e-01, 1.42285543e-01, 1.42193600e-01, 1.38217641e-01,\n",
       "        1.37783016e-01, 1.37241529e-01, 1.36190890e-01, 1.33723585e-01,\n",
       "        1.33072758e-01, 1.30344656e-01, 1.30122607e-01, 1.29491166e-01,\n",
       "        1.29376126e-01, 1.28619786e-01, 1.28300208e-01, 1.15450433e-01,\n",
       "        1.15330177e-01, 1.10453072e-01, 1.10360003e-01, 1.09303547e-01,\n",
       "        1.09071463e-01, 1.08811845e-01, 1.08619082e-01, 1.05683550e-01,\n",
       "        1.04838367e-01, 1.01490592e-01, 1.01278998e-01, 9.93307742e-02,\n",
       "        9.88781483e-02, 9.61450685e-02, 9.58754703e-02, 9.41071328e-02,\n",
       "        9.40136642e-02, 9.15300037e-02, 9.13430707e-02, 9.06893026e-02,\n",
       "        9.05937474e-02, 9.05420289e-02, 9.03220369e-02, 8.33785668e-02,\n",
       "        8.33428742e-02, 8.07457193e-02, 8.07102891e-02, 7.93283526e-02,\n",
       "        7.92596695e-02, 7.86027553e-02, 7.85919191e-02, 7.74834804e-02,\n",
       "        7.74326445e-02, 7.66788920e-02, 7.64054338e-02, 7.64047764e-02,\n",
       "        7.61438336e-02, 7.54921985e-02, 7.54311312e-02, 7.32857503e-02,\n",
       "        7.31880604e-02, 6.62094970e-02, 6.61294419e-02, 6.45639554e-02,\n",
       "        6.45636902e-02, 6.07190242e-02, 6.06873623e-02, 5.92399196e-02,\n",
       "        5.91641236e-02, 5.34745633e-02, 5.34224863e-02, 5.23641628e-02,\n",
       "        5.23373995e-02, 5.11629219e-02, 5.10449309e-02, 4.84509085e-02,\n",
       "        4.83301667e-02, 4.42840479e-02, 4.41528556e-02, 4.37919894e-02,\n",
       "        4.37351333e-02, 4.21850870e-02, 4.21424462e-02, 3.89583829e-02,\n",
       "        3.88564337e-02, 3.57830892e-02, 3.57587936e-02, 3.31335894e-02,\n",
       "        3.31149904e-02, 3.16659879e-02, 3.16399374e-02, 3.00984239e-02,\n",
       "        3.00942604e-02, 2.80084604e-02, 2.79740680e-02, 2.75583594e-02,\n",
       "        2.75311977e-02, 2.71621249e-02, 2.71367759e-02, 2.51784308e-02,\n",
       "        2.51707491e-02, 2.18514159e-02, 2.17787382e-02, 2.16329298e-02,\n",
       "        2.16315361e-02, 2.15086752e-02, 2.13979492e-02, 2.11647322e-02,\n",
       "        2.11505846e-02, 1.19948083e-02, 1.19931609e-02, 1.13678933e-02,\n",
       "        1.13620328e-02, 1.06659081e-02, 1.06575642e-02, 1.06115523e-02,\n",
       "        1.05809345e-02, 9.90365422e-03, 9.89883955e-03, 9.14724865e-03,\n",
       "        9.12733799e-03, 6.58361245e-03, 6.58036173e-03, 5.37781535e-03,\n",
       "        5.37591776e-03, 4.73934253e-03, 4.73875781e-03, 4.46480421e-03,\n",
       "        4.46304467e-03, 3.81667270e-03, 3.80924571e-03, 3.61800466e-03,\n",
       "        3.61647193e-03, 3.44311399e-03, 3.43919596e-03, 2.23545006e-03,\n",
       "        2.23423555e-03, 1.97811053e-03, 1.97780025e-03, 1.63103700e-03,\n",
       "        1.62754897e-03, 1.61718091e-03, 1.61682867e-03, 1.43785216e-03,\n",
       "        1.43714092e-03, 1.39116539e-03, 1.39104146e-03, 1.00932596e-03,\n",
       "        1.00810673e-03, 5.13975858e-04, 5.13747697e-04, 7.83132338e-05,\n",
       "        7.83024337e-05, 4.82671883e-05, 4.81949616e-05, 1.07420551e-05,\n",
       "        1.07411545e-05, 6.03777348e-06, 6.00077233e-06, 3.00980767e-06,\n",
       "        3.00533668e-06, 8.68902158e-07, 8.60443728e-07, 4.40392476e-07,\n",
       "        4.39883422e-07, 2.55280315e-08, 2.48072916e-08, 3.19906554e-09,\n",
       "        3.04604061e-09, 8.76021212e-23]))"
      ]
     },
     "execution_count": 136,
     "metadata": {},
     "output_type": "execute_result"
    }
   ],
   "source": [
    "roc_curve(y_test,model.predict_proba(X_test)[:, 1])\n",
    "#pontos da minha curva"
   ]
  },
  {
   "cell_type": "code",
   "execution_count": 138,
   "metadata": {},
   "outputs": [
    {
     "data": {
      "text/plain": [
       "<sklearn.metrics._plot.roc_curve.RocCurveDisplay at 0x2110f19f748>"
      ]
     },
     "execution_count": 138,
     "metadata": {},
     "output_type": "execute_result"
    },
    {
     "data": {
      "image/png": "[encoded data removed]",
      "text/plain": [
       "<Figure size 576x396 with 1 Axes>"
      ]
     },
     "metadata": {},
     "output_type": "display_data"
    }
   ],
   "source": [
    "fig, ax = plt.subplots()\n",
    "\n",
    "plot_roc_curve(model, X_test, y_test, color='red', ax= ax)\n",
    "plot_roc_curve(model, X_train, y_train, color='blue', ax=ax)\n",
    "#plot_roc_curve(dumb, X_test, y_test, color='red', ax= ax)\n",
    "\n",
    "#testar _test com _train e ver a distancia entre eles\n",
    "#proximidade das curvas indica que não decorou os dados. (modelo com performance parecida com o )\n",
    "#só o model que varia para esse gráfico já trabalhando anteriomente. \n",
    "#aplica meu model nos 2 casos. "
   ]
  },
  {
   "cell_type": "markdown",
   "metadata": {
    "colab_type": "text",
    "id": "ZPhGeQHuUp_m"
   },
   "source": [
    "### Now find the roc_auc_score for each. "
   ]
  },
  {
   "cell_type": "code",
   "execution_count": 133,
   "metadata": {
    "colab": {},
    "colab_type": "code",
    "id": "Vz4Gn4j_Up_o"
   },
   "outputs": [
    {
     "data": {
      "text/plain": [
       "0.9760923231141597"
      ]
     },
     "execution_count": 133,
     "metadata": {},
     "output_type": "execute_result"
    }
   ],
   "source": [
    "roc_auc_score(y_test, model.predict_proba(X_test)[:, 1])\n",
    "#bom resultado de TP e baixo de FP"
   ]
  },
  {
   "cell_type": "markdown",
   "metadata": {
    "colab_type": "text",
    "id": "pUfStJ6lUp_p"
   },
   "source": [
    "### Using the yellowbrick library  plot the roc_auc_score curve for the logistic model . "
   ]
  },
  {
   "cell_type": "code",
   "execution_count": 134,
   "metadata": {
    "colab": {},
    "colab_type": "code",
    "id": "VTytAzX7Up_q"
   },
   "outputs": [
    {
     "name": "stderr",
     "output_type": "stream",
     "text": [
      "C:\\Users\\User\\Anaconda3\\lib\\site-packages\\sklearn\\utils\\deprecation.py:144: FutureWarning: The sklearn.metrics.classification module is  deprecated in version 0.22 and will be removed in version 0.24. The corresponding classes / functions should instead be imported from sklearn.metrics. Anything that cannot be imported from sklearn.metrics is now part of the private API.\n",
      "  warnings.warn(message, FutureWarning)\n",
      "C:\\Users\\User\\Anaconda3\\lib\\site-packages\\sklearn\\base.py:197: FutureWarning: From version 0.24, get_params will raise an AttributeError if a parameter cannot be retrieved as an instance attribute. Previously it would return None.\n",
      "  FutureWarning)\n",
      "C:\\Users\\User\\Anaconda3\\lib\\site-packages\\sklearn\\linear_model\\_logistic.py:940: ConvergenceWarning: lbfgs failed to converge (status=1):\n",
      "STOP: TOTAL NO. of ITERATIONS REACHED LIMIT.\n",
      "\n",
      "Increase the number of iterations (max_iter) or scale the data as shown in:\n",
      "    https://scikit-learn.org/stable/modules/preprocessing.html\n",
      "Please also refer to the documentation for alternative solver options:\n",
      "    https://scikit-learn.org/stable/modules/linear_model.html#logistic-regression\n",
      "  extra_warning_msg=_LOGISTIC_SOLVER_CONVERGENCE_MSG)\n"
     ]
    },
    {
     "data": {
      "image/png": "[encoded data removed]",
      "text/plain": [
       "<Figure size 576x396 with 1 Axes>"
      ]
     },
     "metadata": {},
     "output_type": "display_data"
    },
    {
     "data": {
      "text/plain": [
       "<matplotlib.axes._subplots.AxesSubplot at 0x2110efa0788>"
      ]
     },
     "execution_count": 134,
     "metadata": {},
     "output_type": "execute_result"
    }
   ],
   "source": [
    "from sklearn.linear_model import LogisticRegression\n",
    "from yellowbrick.classifier import ROCAUC\n",
    "\n",
    "# Instantiate the visualizer with the classification model\n",
    "model = LogisticRegression()\n",
    "visualizer = ROCAUC(model, classes=[\"non-default\", \"default\"], micro=False, per_class=False)\n",
    "\n",
    "visualizer.fit(X_train, y_train)        # Fit the training data to the visualizer\n",
    "visualizer.score(X_test, y_test)        # Evaluate the model on the test data\n",
    "visualizer.show()                       # Finalize and show the figure\n"
   ]
  },
  {
   "cell_type": "markdown",
   "metadata": {
    "colab_type": "text",
    "id": "vda4i6JZUp_s"
   },
   "source": [
    "### What does this metric tell you? Which classifier works better with this metric in mind?"
   ]
  },
  {
   "cell_type": "code",
   "execution_count": 0,
   "metadata": {
    "colab": {},
    "colab_type": "code",
    "id": "94kkn4-hUp_s"
   },
   "outputs": [],
   "source": [
    "#bom resultado de TP e baixo de FP"
   ]
  }
 ],
 "metadata": {
  "colab": {
   "collapsed_sections": [],
   "name": "main.ipynb",
   "provenance": []
  },
  "kernelspec": {
   "display_name": "Python 3",
   "language": "python",
   "name": "python3"
  },
  "language_info": {
   "codemirror_mode": {
    "name": "ipython",
    "version": 3
   },
   "file_extension": ".py",
   "mimetype": "text/x-python",
   "name": "python",
   "nbconvert_exporter": "python",
   "pygments_lexer": "ipython3",
   "version": "3.7.4"
  },
  "toc": {
   "base_numbering": 1,
   "nav_menu": {},
   "number_sections": true,
   "sideBar": true,
   "skip_h1_title": false,
   "title_cell": "Table of Contents",
   "title_sidebar": "Contents",
   "toc_cell": false,
   "toc_position": {},
   "toc_section_display": true,
   "toc_window_display": false
  },
  "varInspector": {
   "cols": {
    "lenName": 16,
    "lenType": 16,
    "lenVar": 40
   },
   "kernels_config": {
    "python": {
     "delete_cmd_postfix": "",
     "delete_cmd_prefix": "del ",
     "library": "var_list.py",
     "varRefreshCmd": "print(var_dic_list())"
    },
    "r": {
     "delete_cmd_postfix": ") ",
     "delete_cmd_prefix": "rm(",
     "library": "var_list.r",
     "varRefreshCmd": "cat(var_dic_list()) "
    }
   },
   "types_to_exclude": [
    "module",
    "function",
    "builtin_function_or_method",
    "instance",
    "_Feature"
   ],
   "window_display": false
  }
 },
 "nbformat": 4,
 "nbformat_minor": 1
}
