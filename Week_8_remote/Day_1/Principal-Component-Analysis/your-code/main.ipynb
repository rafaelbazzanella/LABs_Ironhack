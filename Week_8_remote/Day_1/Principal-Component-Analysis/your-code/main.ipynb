{
 "cells": [
  {
   "cell_type": "markdown",
   "metadata": {},
   "source": [
    "import pandas as pd\n",
    "import numpy as np\n",
    "import matplotlib.pyplot as plt\n",
    "# ^^^ pyforest auto-imports - don't write above this line\n",
    "# Before your start:\n",
    "\n",
    "- Comment as much as you can and use the resources\n",
    "- Happy learning!"
   ]
  },
  {
   "cell_type": "markdown",
   "metadata": {},
   "source": [
    "# Challenge 1 - Reading and Standardizing the Data\n",
    "\n",
    "In this challenge we will work with image data and reduce the dimensions of the data to create a 2 dimensional plot. While we have not worked much with image data before, it can be represented as a numpy array where each pixel is assigned a numeric value. In this lesson, we will look at a dataset of cats and a dataset of dogs and see whether reducing them to two dimensions allows us to see if the data is separable. We will start by loading and processing the data. Run the cell below to load the two csv files and convert them into numpy arrays."
   ]
  },
  {
   "cell_type": "markdown",
   "metadata": {},
   "source": [
    "## Read the files into dataframes named `dogs` and `cats`"
   ]
  },
  {
   "cell_type": "code",
   "execution_count": 1,
   "metadata": {},
   "outputs": [],
   "source": [
    "import pandas as pd\n",
    "import numpy as np\n",
    "import matplotlib.pyplot  as plt"
   ]
  },
  {
   "cell_type": "code",
   "execution_count": 2,
   "metadata": {},
   "outputs": [],
   "source": [
    "#your code here\n",
    "cats = pd.read_csv('../data/cats.csv')\n",
    "dogs = pd.read_csv('../data/dogs.csv')"
   ]
  },
  {
   "cell_type": "markdown",
   "metadata": {},
   "source": [
    "Next, we'll examine the shape of both the cats and the dogs arrays. Print out both shapes below."
   ]
  },
  {
   "cell_type": "code",
   "execution_count": 3,
   "metadata": {},
   "outputs": [
    {
     "name": "stdout",
     "output_type": "stream",
     "text": [
      "(80, 4096) (80, 4096)\n"
     ]
    }
   ],
   "source": [
    "# Your code here:\n",
    "print(dogs.shape,cats.shape)"
   ]
  },
  {
   "cell_type": "markdown",
   "metadata": {},
   "source": [
    "What this means is that both arrays contain 80 images each (the number of rows). Each image is comprised of 64x64 pixels (so a total of 4096 pixels per image). The images have been flattened such that all 4096 are in a single row.\n",
    "\n",
    "Print out row 0 of the cats dataframe to see what the pixels values look like."
   ]
  },
  {
   "cell_type": "code",
   "execution_count": 4,
   "metadata": {},
   "outputs": [
    {
     "data": {
      "text/html": [
       "<div>\n",
       "<style scoped>\n",
       "    .dataframe tbody tr th:only-of-type {\n",
       "        vertical-align: middle;\n",
       "    }\n",
       "\n",
       "    .dataframe tbody tr th {\n",
       "        vertical-align: top;\n",
       "    }\n",
       "\n",
       "    .dataframe thead th {\n",
       "        text-align: right;\n",
       "    }\n",
       "</style>\n",
       "<table border=\"1\" class=\"dataframe\">\n",
       "  <thead>\n",
       "    <tr style=\"text-align: right;\">\n",
       "      <th></th>\n",
       "      <th>0</th>\n",
       "      <th>1</th>\n",
       "      <th>2</th>\n",
       "      <th>3</th>\n",
       "      <th>4</th>\n",
       "      <th>5</th>\n",
       "      <th>6</th>\n",
       "      <th>7</th>\n",
       "      <th>8</th>\n",
       "      <th>9</th>\n",
       "      <th>...</th>\n",
       "      <th>4086</th>\n",
       "      <th>4087</th>\n",
       "      <th>4088</th>\n",
       "      <th>4089</th>\n",
       "      <th>4090</th>\n",
       "      <th>4091</th>\n",
       "      <th>4092</th>\n",
       "      <th>4093</th>\n",
       "      <th>4094</th>\n",
       "      <th>4095</th>\n",
       "    </tr>\n",
       "  </thead>\n",
       "  <tbody>\n",
       "    <tr>\n",
       "      <th>0</th>\n",
       "      <td>64</td>\n",
       "      <td>64</td>\n",
       "      <td>64</td>\n",
       "      <td>64</td>\n",
       "      <td>64</td>\n",
       "      <td>77</td>\n",
       "      <td>77</td>\n",
       "      <td>64</td>\n",
       "      <td>64</td>\n",
       "      <td>77</td>\n",
       "      <td>...</td>\n",
       "      <td>22</td>\n",
       "      <td>36</td>\n",
       "      <td>36</td>\n",
       "      <td>36</td>\n",
       "      <td>47</td>\n",
       "      <td>77</td>\n",
       "      <td>64</td>\n",
       "      <td>61</td>\n",
       "      <td>61</td>\n",
       "      <td>61</td>\n",
       "    </tr>\n",
       "  </tbody>\n",
       "</table>\n",
       "<p>1 rows × 4096 columns</p>\n",
       "</div>"
      ],
      "text/plain": [
       "    0   1   2   3   4   5   6   7   8   9  ...  4086  4087  4088  4089  4090  \\\n",
       "0  64  64  64  64  64  77  77  64  64  77  ...    22    36    36    36    47   \n",
       "\n",
       "   4091  4092  4093  4094  4095  \n",
       "0    77    64    61    61    61  \n",
       "\n",
       "[1 rows x 4096 columns]"
      ]
     },
     "execution_count": 4,
     "metadata": {},
     "output_type": "execute_result"
    }
   ],
   "source": [
    "# Your code here:\n",
    "cats.head(1)"
   ]
  },
  {
   "cell_type": "markdown",
   "metadata": {},
   "source": [
    "Using `matplotlib` we can plot a single cat or a single dog. We do this by reshaping the observation vector back to a squared image and then using the `imshow` function.\n",
    "\n",
    "Plot the image of the first cat and dog of your dataframes\n",
    "\n",
    "_Extra: you can play with `imshow`'s argument `cmap` to see which colors are suitable for visualization_"
   ]
  },
  {
   "cell_type": "code",
   "execution_count": 5,
   "metadata": {},
   "outputs": [
    {
     "data": {
      "text/html": [
       "<div>\n",
       "<style scoped>\n",
       "    .dataframe tbody tr th:only-of-type {\n",
       "        vertical-align: middle;\n",
       "    }\n",
       "\n",
       "    .dataframe tbody tr th {\n",
       "        vertical-align: top;\n",
       "    }\n",
       "\n",
       "    .dataframe thead th {\n",
       "        text-align: right;\n",
       "    }\n",
       "</style>\n",
       "<table border=\"1\" class=\"dataframe\">\n",
       "  <thead>\n",
       "    <tr style=\"text-align: right;\">\n",
       "      <th></th>\n",
       "      <th>0</th>\n",
       "      <th>1</th>\n",
       "      <th>2</th>\n",
       "      <th>3</th>\n",
       "      <th>4</th>\n",
       "      <th>5</th>\n",
       "      <th>6</th>\n",
       "      <th>7</th>\n",
       "      <th>8</th>\n",
       "      <th>9</th>\n",
       "      <th>...</th>\n",
       "      <th>4086</th>\n",
       "      <th>4087</th>\n",
       "      <th>4088</th>\n",
       "      <th>4089</th>\n",
       "      <th>4090</th>\n",
       "      <th>4091</th>\n",
       "      <th>4092</th>\n",
       "      <th>4093</th>\n",
       "      <th>4094</th>\n",
       "      <th>4095</th>\n",
       "    </tr>\n",
       "  </thead>\n",
       "  <tbody>\n",
       "    <tr>\n",
       "      <th>0</th>\n",
       "      <td>64</td>\n",
       "      <td>64</td>\n",
       "      <td>64</td>\n",
       "      <td>64</td>\n",
       "      <td>64</td>\n",
       "      <td>77</td>\n",
       "      <td>77</td>\n",
       "      <td>64</td>\n",
       "      <td>64</td>\n",
       "      <td>77</td>\n",
       "      <td>...</td>\n",
       "      <td>22</td>\n",
       "      <td>36</td>\n",
       "      <td>36</td>\n",
       "      <td>36</td>\n",
       "      <td>47</td>\n",
       "      <td>77</td>\n",
       "      <td>64</td>\n",
       "      <td>61</td>\n",
       "      <td>61</td>\n",
       "      <td>61</td>\n",
       "    </tr>\n",
       "  </tbody>\n",
       "</table>\n",
       "<p>1 rows × 4096 columns</p>\n",
       "</div>"
      ],
      "text/plain": [
       "    0   1   2   3   4   5   6   7   8   9  ...  4086  4087  4088  4089  4090  \\\n",
       "0  64  64  64  64  64  77  77  64  64  77  ...    22    36    36    36    47   \n",
       "\n",
       "   4091  4092  4093  4094  4095  \n",
       "0    77    64    61    61    61  \n",
       "\n",
       "[1 rows x 4096 columns]"
      ]
     },
     "execution_count": 5,
     "metadata": {},
     "output_type": "execute_result"
    }
   ],
   "source": [
    "cats.head(1)"
   ]
  },
  {
   "cell_type": "code",
   "execution_count": 6,
   "metadata": {},
   "outputs": [
    {
     "data": {
      "text/plain": [
       "array([[64, 64, 64, ..., 64, 64, 61],\n",
       "       [64, 64, 77, ..., 64, 64, 61],\n",
       "       [64, 64, 64, ..., 64, 64, 61],\n",
       "       ...,\n",
       "       [77, 77, 77, ..., 64, 64, 64],\n",
       "       [64, 64, 64, ..., 64, 64, 64],\n",
       "       [64, 64, 77, ..., 61, 61, 61]], dtype=int64)"
      ]
     },
     "execution_count": 6,
     "metadata": {},
     "output_type": "execute_result"
    }
   ],
   "source": [
    "np.array(cats.loc[0, :]).reshape(64,64)"
   ]
  },
  {
   "cell_type": "code",
   "execution_count": 7,
   "metadata": {
    "cell_style": "split"
   },
   "outputs": [
    {
     "data": {
      "text/plain": [
       "<matplotlib.image.AxesImage at 0x22e0b0338c8>"
      ]
     },
     "execution_count": 7,
     "metadata": {},
     "output_type": "execute_result"
    },
    {
     "data": {
      "image/png": "[encoded data removed]",
      "text/plain": [
       "<Figure size 432x288 with 1 Axes>"
      ]
     },
     "metadata": {
      "needs_background": "light"
     },
     "output_type": "display_data"
    }
   ],
   "source": [
    "# your code here\n",
    "plt.imshow(np.array(cats.loc[0, :]).reshape(64,64), cmap='Blues_r')"
   ]
  },
  {
   "cell_type": "code",
   "execution_count": 8,
   "metadata": {
    "cell_style": "split"
   },
   "outputs": [
    {
     "data": {
      "image/png": "[encoded data removed]",
      "text/plain": [
       "<Figure size 576x720 with 1 Axes>"
      ]
     },
     "metadata": {
      "needs_background": "light"
     },
     "output_type": "display_data"
    }
   ],
   "source": [
    "plt.figure(figsize=(8,10))\n",
    "plt.imshow(np.array(dogs.loc[0, :]).reshape(64,64), cmap='BrBG')\n",
    "plt.show()"
   ]
  },
  {
   "cell_type": "markdown",
   "metadata": {},
   "source": [
    "Now concatenate the cats and dogs dataframes. Make sure to put dogs first. This should result in a dataframe containing 160 observations and 4096 dimensions."
   ]
  },
  {
   "cell_type": "code",
   "execution_count": 9,
   "metadata": {},
   "outputs": [],
   "source": [
    "# your code here\n",
    "dogs_cats = pd.concat([dogs,cats]).reset_index(drop=True)\n",
    "\n"
   ]
  },
  {
   "cell_type": "markdown",
   "metadata": {},
   "source": [
    "Next, we would like to standardize our data. \n",
    "\n",
    "In order to do that, we will need to use the `StandardScaler` class from `sklearn.preprocessing` module.\n",
    "\n",
    "Remember, we need to standardize the information for each pixel (which are the dimensions of our dataset) so that they can be compared in the PCA algorithm. Otherwise, the result would be dominated by the variable with the highest scale. \n"
   ]
  },
  {
   "cell_type": "code",
   "execution_count": 10,
   "metadata": {},
   "outputs": [],
   "source": [
    "from sklearn.preprocessing import StandardScaler"
   ]
  },
  {
   "cell_type": "code",
   "execution_count": 11,
   "metadata": {},
   "outputs": [],
   "source": [
    "# your code here\n",
    "\n",
    "scaler = StandardScaler()\n",
    "dogs_cats_scaled = scaler.fit_transform(dogs_cats)"
   ]
  },
  {
   "cell_type": "code",
   "execution_count": 57,
   "metadata": {},
   "outputs": [
    {
     "data": {
      "text/plain": [
       "array([ 1.62729443,  1.71734864,  1.69367206, ..., -0.07659167,\n",
       "       -0.12937266, -0.12602345])"
      ]
     },
     "execution_count": 57,
     "metadata": {},
     "output_type": "execute_result"
    }
   ],
   "source": [
    "dogs_cats_scaled[0]"
   ]
  },
  {
   "cell_type": "markdown",
   "metadata": {},
   "source": [
    "## Bonus\n",
    "\n",
    "After standardizing your data, try visualizing your image again. Does the standardization changes your original image?"
   ]
  },
  {
   "cell_type": "code",
   "execution_count": 13,
   "metadata": {},
   "outputs": [
    {
     "data": {
      "image/png": "[encoded data removed]",
      "text/plain": [
       "<Figure size 432x288 with 1 Axes>"
      ]
     },
     "metadata": {
      "needs_background": "light"
     },
     "output_type": "display_data"
    },
    {
     "data": {
      "image/png": "[encoded data removed]",
      "text/plain": [
       "<Figure size 432x288 with 1 Axes>"
      ]
     },
     "metadata": {
      "needs_background": "light"
     },
     "output_type": "display_data"
    },
    {
     "data": {
      "image/png": "[encoded data removed]",
      "text/plain": [
       "<Figure size 432x288 with 1 Axes>"
      ]
     },
     "metadata": {
      "needs_background": "light"
     },
     "output_type": "display_data"
    },
    {
     "data": {
      "image/png": "[encoded data removed]",
      "text/plain": [
       "<Figure size 432x288 with 1 Axes>"
      ]
     },
     "metadata": {
      "needs_background": "light"
     },
     "output_type": "display_data"
    }
   ],
   "source": [
    "# your code here\n",
    "for i in range(0,160,40):\n",
    "    plt.imshow(dogs_cats_scaled[i].reshape(64,64), cmap='bone')\n",
    "    plt.show()"
   ]
  },
  {
   "cell_type": "markdown",
   "metadata": {},
   "source": [
    "# Challenge 2 - Using PCA\n",
    "\n",
    "Now that we have created a standardized matrix of cats and dogs, we'll find the two most important components in the data. \n",
    "\n",
    "Load the PCA from sklearn (https://scikit-learn.org/stable/modules/generated/sklearn.decomposition.PCA.html) and apply the function to our standarized data. Create a PCA model with two components."
   ]
  },
  {
   "cell_type": "code",
   "execution_count": 14,
   "metadata": {},
   "outputs": [],
   "source": [
    "from sklearn.decomposition import PCA"
   ]
  },
  {
   "cell_type": "code",
   "execution_count": 15,
   "metadata": {},
   "outputs": [],
   "source": [
    "#teste com reshape\n",
    "#XX = pd.DataFrame()\n",
    "#for i in range(0,160):\n",
    "#    print(dogs_cats_scaled[i].reshape(64,64))\n",
    "#    XX = dogs_cats_scaled[i].reshape(64,64)"
   ]
  },
  {
   "cell_type": "code",
   "execution_count": 16,
   "metadata": {},
   "outputs": [],
   "source": [
    "#pd.DataFrame(dogs_cats_scaled[10].reshape(64,64))"
   ]
  },
  {
   "cell_type": "code",
   "execution_count": 17,
   "metadata": {},
   "outputs": [
    {
     "data": {
      "text/html": [
       "<div>\n",
       "<style scoped>\n",
       "    .dataframe tbody tr th:only-of-type {\n",
       "        vertical-align: middle;\n",
       "    }\n",
       "\n",
       "    .dataframe tbody tr th {\n",
       "        vertical-align: top;\n",
       "    }\n",
       "\n",
       "    .dataframe thead th {\n",
       "        text-align: right;\n",
       "    }\n",
       "</style>\n",
       "<table border=\"1\" class=\"dataframe\">\n",
       "  <thead>\n",
       "    <tr style=\"text-align: right;\">\n",
       "      <th></th>\n",
       "      <th>0</th>\n",
       "      <th>1</th>\n",
       "      <th>2</th>\n",
       "      <th>3</th>\n",
       "      <th>4</th>\n",
       "      <th>5</th>\n",
       "      <th>6</th>\n",
       "      <th>7</th>\n",
       "      <th>8</th>\n",
       "      <th>9</th>\n",
       "      <th>...</th>\n",
       "      <th>4086</th>\n",
       "      <th>4087</th>\n",
       "      <th>4088</th>\n",
       "      <th>4089</th>\n",
       "      <th>4090</th>\n",
       "      <th>4091</th>\n",
       "      <th>4092</th>\n",
       "      <th>4093</th>\n",
       "      <th>4094</th>\n",
       "      <th>4095</th>\n",
       "    </tr>\n",
       "  </thead>\n",
       "  <tbody>\n",
       "    <tr>\n",
       "      <th>0</th>\n",
       "      <td>1.627294</td>\n",
       "      <td>1.717349</td>\n",
       "      <td>1.693672</td>\n",
       "      <td>1.581479</td>\n",
       "      <td>1.525127</td>\n",
       "      <td>1.492131</td>\n",
       "      <td>1.466751</td>\n",
       "      <td>1.339474</td>\n",
       "      <td>1.617227</td>\n",
       "      <td>1.498703</td>\n",
       "      <td>...</td>\n",
       "      <td>0.082968</td>\n",
       "      <td>-0.050294</td>\n",
       "      <td>-0.144216</td>\n",
       "      <td>-0.323803</td>\n",
       "      <td>-0.299883</td>\n",
       "      <td>-0.283294</td>\n",
       "      <td>-0.242607</td>\n",
       "      <td>-0.076592</td>\n",
       "      <td>-0.129373</td>\n",
       "      <td>-0.126023</td>\n",
       "    </tr>\n",
       "    <tr>\n",
       "      <th>1</th>\n",
       "      <td>0.381583</td>\n",
       "      <td>0.325797</td>\n",
       "      <td>0.412700</td>\n",
       "      <td>0.430752</td>\n",
       "      <td>0.974881</td>\n",
       "      <td>1.885086</td>\n",
       "      <td>1.854365</td>\n",
       "      <td>1.366387</td>\n",
       "      <td>-0.116847</td>\n",
       "      <td>-0.112676</td>\n",
       "      <td>...</td>\n",
       "      <td>-0.312389</td>\n",
       "      <td>-0.468118</td>\n",
       "      <td>-0.520687</td>\n",
       "      <td>-0.386715</td>\n",
       "      <td>-0.143694</td>\n",
       "      <td>0.092085</td>\n",
       "      <td>-0.542414</td>\n",
       "      <td>-0.881191</td>\n",
       "      <td>-0.070019</td>\n",
       "      <td>0.222128</td>\n",
       "    </tr>\n",
       "    <tr>\n",
       "      <th>2</th>\n",
       "      <td>0.328004</td>\n",
       "      <td>0.492783</td>\n",
       "      <td>0.481570</td>\n",
       "      <td>0.458150</td>\n",
       "      <td>0.465904</td>\n",
       "      <td>0.326814</td>\n",
       "      <td>0.437569</td>\n",
       "      <td>0.303352</td>\n",
       "      <td>0.140555</td>\n",
       "      <td>-0.002496</td>\n",
       "      <td>...</td>\n",
       "      <td>0.174204</td>\n",
       "      <td>0.274681</td>\n",
       "      <td>0.608727</td>\n",
       "      <td>0.635613</td>\n",
       "      <td>0.387349</td>\n",
       "      <td>0.279775</td>\n",
       "      <td>-0.005917</td>\n",
       "      <td>-0.107538</td>\n",
       "      <td>-0.292596</td>\n",
       "      <td>-0.067998</td>\n",
       "    </tr>\n",
       "    <tr>\n",
       "      <th>3</th>\n",
       "      <td>0.314609</td>\n",
       "      <td>0.339713</td>\n",
       "      <td>0.330057</td>\n",
       "      <td>0.060876</td>\n",
       "      <td>-0.111855</td>\n",
       "      <td>-0.120343</td>\n",
       "      <td>0.049955</td>\n",
       "      <td>-0.140701</td>\n",
       "      <td>-0.157489</td>\n",
       "      <td>-0.140221</td>\n",
       "      <td>...</td>\n",
       "      <td>0.006938</td>\n",
       "      <td>-0.003869</td>\n",
       "      <td>0.216569</td>\n",
       "      <td>0.242410</td>\n",
       "      <td>-0.190551</td>\n",
       "      <td>-0.377139</td>\n",
       "      <td>-0.353062</td>\n",
       "      <td>-0.277742</td>\n",
       "      <td>-0.233242</td>\n",
       "      <td>-0.227568</td>\n",
       "    </tr>\n",
       "    <tr>\n",
       "      <th>4</th>\n",
       "      <td>0.448557</td>\n",
       "      <td>0.297966</td>\n",
       "      <td>0.288735</td>\n",
       "      <td>0.334858</td>\n",
       "      <td>0.273318</td>\n",
       "      <td>0.150661</td>\n",
       "      <td>0.250445</td>\n",
       "      <td>0.128422</td>\n",
       "      <td>0.127007</td>\n",
       "      <td>0.135228</td>\n",
       "      <td>...</td>\n",
       "      <td>-0.464449</td>\n",
       "      <td>0.011606</td>\n",
       "      <td>0.389119</td>\n",
       "      <td>0.824350</td>\n",
       "      <td>0.668489</td>\n",
       "      <td>0.451824</td>\n",
       "      <td>0.499021</td>\n",
       "      <td>0.387600</td>\n",
       "      <td>0.078366</td>\n",
       "      <td>-0.009973</td>\n",
       "    </tr>\n",
       "  </tbody>\n",
       "</table>\n",
       "<p>5 rows × 4096 columns</p>\n",
       "</div>"
      ],
      "text/plain": [
       "       0         1         2         3         4         5         6     \\\n",
       "0  1.627294  1.717349  1.693672  1.581479  1.525127  1.492131  1.466751   \n",
       "1  0.381583  0.325797  0.412700  0.430752  0.974881  1.885086  1.854365   \n",
       "2  0.328004  0.492783  0.481570  0.458150  0.465904  0.326814  0.437569   \n",
       "3  0.314609  0.339713  0.330057  0.060876 -0.111855 -0.120343  0.049955   \n",
       "4  0.448557  0.297966  0.288735  0.334858  0.273318  0.150661  0.250445   \n",
       "\n",
       "       7         8         9     ...      4086      4087      4088      4089  \\\n",
       "0  1.339474  1.617227  1.498703  ...  0.082968 -0.050294 -0.144216 -0.323803   \n",
       "1  1.366387 -0.116847 -0.112676  ... -0.312389 -0.468118 -0.520687 -0.386715   \n",
       "2  0.303352  0.140555 -0.002496  ...  0.174204  0.274681  0.608727  0.635613   \n",
       "3 -0.140701 -0.157489 -0.140221  ...  0.006938 -0.003869  0.216569  0.242410   \n",
       "4  0.128422  0.127007  0.135228  ... -0.464449  0.011606  0.389119  0.824350   \n",
       "\n",
       "       4090      4091      4092      4093      4094      4095  \n",
       "0 -0.299883 -0.283294 -0.242607 -0.076592 -0.129373 -0.126023  \n",
       "1 -0.143694  0.092085 -0.542414 -0.881191 -0.070019  0.222128  \n",
       "2  0.387349  0.279775 -0.005917 -0.107538 -0.292596 -0.067998  \n",
       "3 -0.190551 -0.377139 -0.353062 -0.277742 -0.233242 -0.227568  \n",
       "4  0.668489  0.451824  0.499021  0.387600  0.078366 -0.009973  \n",
       "\n",
       "[5 rows x 4096 columns]"
      ]
     },
     "execution_count": 17,
     "metadata": {},
     "output_type": "execute_result"
    }
   ],
   "source": [
    "# Your code here:\n",
    "\n",
    "X = pd.DataFrame(dogs_cats_scaled)\n",
    "\n",
    "X.head()"
   ]
  },
  {
   "cell_type": "code",
   "execution_count": 18,
   "metadata": {},
   "outputs": [
    {
     "data": {
      "text/plain": [
       "2"
      ]
     },
     "execution_count": 18,
     "metadata": {},
     "output_type": "execute_result"
    }
   ],
   "source": [
    "#qual diferença entre X_std e X ? tipo no exercio em sala só muda o nome mas em lugar nenhum usa o desvio\n",
    "\n",
    "\n",
    "pca = PCA(2) \n",
    "\n",
    "scaler = StandardScaler().fit(X)\n",
    "X_std = scaler.transform(X)\n",
    "\n",
    "pca.fit(X_std)\n",
    "pca.n_components_"
   ]
  },
  {
   "cell_type": "code",
   "execution_count": null,
   "metadata": {},
   "outputs": [],
   "source": []
  },
  {
   "cell_type": "markdown",
   "metadata": {},
   "source": [
    "After instantiating the `PCA class` and applying it to the standardized data, the results of your principal component analysis will be stored on the PCA object you've created (from the PCA class). "
   ]
  },
  {
   "cell_type": "markdown",
   "metadata": {},
   "source": [
    "# Challenge 3 - Plotting the Data\n",
    "\n",
    "Now that we have reduced our cats and dogs arrays, we can plot the data in a way that the human eye can understand in 2-D. We can look at this plot to see whether there are differences between the cat and dog images. \n",
    "\n",
    "In the cell below, create a pandas dataframe containing the columns `pc1`, and `pc2` with the results of the first and second components of your results, respectively."
   ]
  },
  {
   "cell_type": "code",
   "execution_count": 19,
   "metadata": {},
   "outputs": [],
   "source": [
    "# Your code here:\n",
    "pc1 = pca.transform(X_std)[:, 0]\n",
    "pc2 = pca.transform(X_std)[:, 1]\n"
   ]
  },
  {
   "cell_type": "code",
   "execution_count": 20,
   "metadata": {},
   "outputs": [
    {
     "data": {
      "text/plain": [
       "array([-2.52389400e+01, -4.15716861e+01,  1.19581867e+01, -9.83936184e+00,\n",
       "       -1.88120256e+01,  5.84374963e+00, -2.06659204e+01, -2.02951052e+01,\n",
       "       -9.17912991e+00, -3.18338077e+01, -2.65321309e+00, -4.98633262e+00,\n",
       "       -1.17071946e+01,  7.38833485e+00, -2.05419461e+01, -1.10092747e+01,\n",
       "       -1.11085925e+01, -3.37994262e+01, -8.98499957e+00, -1.48999555e+01,\n",
       "        4.65157509e+00, -7.50716955e+00, -6.94593094e-01, -2.52214587e+01,\n",
       "       -3.47407889e+01, -1.18016311e+01,  8.45781171e+00, -2.78419838e-02,\n",
       "       -1.96098679e+01, -1.45359643e+01, -7.77316778e+00, -1.32496286e+01,\n",
       "       -3.04898424e+01, -2.70190763e+01, -2.26125304e+00, -1.83870887e+01,\n",
       "        1.05983118e+01, -1.11855775e+01, -6.18164672e+00, -3.38638944e+01,\n",
       "       -2.03887420e+01,  1.48479744e+00, -6.92920690e+00, -2.04911837e+01,\n",
       "        3.61589048e+00, -1.94840042e+01, -3.00119285e+01, -1.06191535e+01,\n",
       "       -1.11539368e+01,  2.38753666e+00, -2.32554646e+01, -1.39848809e+01,\n",
       "        9.36353932e+00,  1.68701789e+01,  1.39425054e+01,  2.05814112e+01,\n",
       "       -1.72494919e+01, -8.23684049e+00,  1.04854145e+01, -1.27949452e+00,\n",
       "       -1.12601252e+01, -1.69463930e+01, -2.83606285e+01,  2.12993150e+01,\n",
       "        1.38059120e-02, -2.50461762e+01,  2.62671042e+00,  3.43986390e+01,\n",
       "        1.11758136e+00, -2.37046258e+01,  2.78683394e+00, -6.30267277e+00,\n",
       "       -2.92934180e+01,  3.66654233e+00, -7.18764448e-01, -2.75389313e+01,\n",
       "       -2.79821608e+01,  4.50789151e+00, -5.73763980e+00, -3.16377846e+01,\n",
       "        2.97016482e+01,  3.87785831e+01, -5.27871293e+01, -1.71002984e+01,\n",
       "        3.82485639e+01,  2.53107487e+01,  3.87952110e+01,  9.86117079e+00,\n",
       "        4.13242758e+01,  2.41138809e+01, -8.49836100e-01, -1.15878406e+01,\n",
       "        4.64827444e+01,  3.31604489e+01, -1.88340355e+01,  1.94269278e+01,\n",
       "       -1.78926025e+01,  3.27709879e+01, -2.44113495e+01,  3.32806852e+01,\n",
       "        6.98871438e+00,  3.56357007e+01,  2.08220801e+01,  1.24809180e+01,\n",
       "       -3.87340017e+01,  8.17403712e-01,  3.28090171e+01,  1.68565281e+01,\n",
       "       -1.38221519e+01,  1.69211329e+01,  9.05563210e+00,  3.73654984e+00,\n",
       "        2.66857864e+01, -5.05263176e+01,  3.24784681e+01, -7.39974461e+00,\n",
       "       -4.06109131e+01,  3.13985740e+01,  8.34119660e+00,  2.48364612e+01,\n",
       "        5.24285831e+00,  4.76857795e+01,  3.96302643e+01,  1.00027492e+01,\n",
       "        4.28777923e+01, -2.37532668e+01, -2.57482937e+01, -3.25172705e+01,\n",
       "        4.80486914e+01,  5.80581158e+00,  3.71342387e+01,  1.00488275e+01,\n",
       "        4.15353752e+01,  3.40154191e+01, -1.19415453e+01,  2.81638104e+01,\n",
       "        5.56905140e+01,  1.14483345e+01, -1.75573133e+01,  5.33339061e+00,\n",
       "       -2.35444905e+00,  1.85459771e+01,  3.98654661e+01,  2.83687744e+01,\n",
       "       -2.37699962e+01,  8.39831237e+00, -4.11899277e+01,  1.09174405e+01,\n",
       "       -9.76186482e+00, -3.10497912e+01, -8.20261255e+00,  2.63484577e+01,\n",
       "        1.20313711e+01, -1.90159263e-01, -5.51454061e+00,  1.52939306e+01,\n",
       "        2.08983954e+01,  2.08673852e+01, -1.43343839e+01,  8.36671699e+00])"
      ]
     },
     "execution_count": 20,
     "metadata": {},
     "output_type": "execute_result"
    }
   ],
   "source": [
    "pc2"
   ]
  },
  {
   "cell_type": "markdown",
   "metadata": {},
   "source": [
    "Create a labels list. This list will be of size 160. The first 80 elements in the list will be the word `blue`, and the last 80 elements will be `red`. This will ensure that all dog observations will be colored in blue and all cats will be colored in red. Name this list `colors`."
   ]
  },
  {
   "cell_type": "code",
   "execution_count": 21,
   "metadata": {},
   "outputs": [],
   "source": [
    "# Your code here:\n",
    "colors = ['blue' if item <80 else 'red' for item in range(0,160)]"
   ]
  },
  {
   "cell_type": "markdown",
   "metadata": {},
   "source": [
    "Create a scatter plot of `pc1` and `pc2` below. Use the `colors` list above to color the observations by setting `c=colors`."
   ]
  },
  {
   "cell_type": "code",
   "execution_count": 22,
   "metadata": {},
   "outputs": [
    {
     "data": {
      "image/png": "[encoded data removed]",
      "text/plain": [
       "<Figure size 432x288 with 1 Axes>"
      ]
     },
     "metadata": {
      "needs_background": "light"
     },
     "output_type": "display_data"
    }
   ],
   "source": [
    "# Your code here:\n",
    "\n",
    "plt.scatter(pc1, pc2, c = colors)\n",
    "plt.xlabel('PC1')\n",
    "plt.ylabel('PC2')\n",
    "plt.show()"
   ]
  },
  {
   "cell_type": "markdown",
   "metadata": {},
   "source": [
    "Do you see a clear separation between cats and dogs? Write your answer below."
   ]
  },
  {
   "cell_type": "code",
   "execution_count": 23,
   "metadata": {},
   "outputs": [],
   "source": [
    "# Your conclusions here:\n",
    "# I can see that, in average, the dogs stay lower than cats but they still close"
   ]
  },
  {
   "cell_type": "code",
   "execution_count": null,
   "metadata": {},
   "outputs": [],
   "source": []
  },
  {
   "cell_type": "markdown",
   "metadata": {},
   "source": [
    "# Evaluate the results"
   ]
  },
  {
   "cell_type": "markdown",
   "metadata": {},
   "source": [
    "Calculate how much explained variance do the results of your PCA has lead to.  "
   ]
  },
  {
   "cell_type": "code",
   "execution_count": 24,
   "metadata": {},
   "outputs": [
    {
     "data": {
      "text/plain": [
       "0.3858879455420221"
      ]
     },
     "execution_count": 24,
     "metadata": {},
     "output_type": "execute_result"
    }
   ],
   "source": [
    "# Your code here:\n",
    "pca.explained_variance_ratio_.sum()"
   ]
  },
  {
   "cell_type": "markdown",
   "metadata": {},
   "source": [
    "Explain with your own words what those values represent."
   ]
  },
  {
   "cell_type": "code",
   "execution_count": 25,
   "metadata": {},
   "outputs": [],
   "source": [
    "# your answer here:\n",
    "#the pca explains total of ~38 percent of the data. "
   ]
  },
  {
   "cell_type": "markdown",
   "metadata": {},
   "source": [
    "# Bonus Challenge\n",
    "\n",
    "\n",
    "Recreate your PCA using 20 components. You'll not be able to visualize the results this time, but the idea here is to plot a cumulative sum of your explained variance results. Follow the steps as before (i.e, create a dataframe containing the 20 components and so on)\n",
    "\n",
    "\n",
    "What do you observe? How much of the information is retained after going from 4096 to 20 dimensions?"
   ]
  },
  {
   "cell_type": "code",
   "execution_count": 26,
   "metadata": {},
   "outputs": [],
   "source": [
    "X = pd.DataFrame(dogs_cats_scaled)\n",
    "\n",
    "pca = PCA(20) \n",
    "scaler = StandardScaler().fit(X)\n",
    "X_std = scaler.transform(X)\n",
    "\n",
    "pca.fit(X_std)\n",
    "\n",
    "pc1 = pca.transform(X_std)[:, 0]\n",
    "pc2 = pca.transform(X_std)[:, 1]\n",
    "\n"
   ]
  },
  {
   "cell_type": "code",
   "execution_count": 27,
   "metadata": {},
   "outputs": [
    {
     "data": {
      "text/plain": [
       "0.7807853250145681"
      ]
     },
     "execution_count": 27,
     "metadata": {},
     "output_type": "execute_result"
    }
   ],
   "source": [
    "pca.explained_variance_ratio_.sum()\n",
    "#retain 78% of information"
   ]
  },
  {
   "cell_type": "code",
   "execution_count": 28,
   "metadata": {},
   "outputs": [
    {
     "data": {
      "image/png": "[encoded data removed]",
      "text/plain": [
       "<Figure size 432x288 with 1 Axes>"
      ]
     },
     "metadata": {
      "needs_background": "light"
     },
     "output_type": "display_data"
    }
   ],
   "source": [
    "plt.scatter(pc1, pc2, c = colors)\n",
    "plt.xlabel('PC1')\n",
    "plt.ylabel('PC2')\n",
    "plt.show()"
   ]
  },
  {
   "cell_type": "markdown",
   "metadata": {},
   "source": [
    "# Bonus Challenge 2"
   ]
  },
  {
   "cell_type": "markdown",
   "metadata": {},
   "source": [
    "Use the `.inverse_transform()` method to the dataframe with the 20 components and store your results. The inverse transform takes the results of the PCA (the reduced dimension space) and take it back to the original space (with 4096 dimensions). This will be helpful for you to visualize how the PCA affected the original data."
   ]
  },
  {
   "cell_type": "code",
   "execution_count": 52,
   "metadata": {},
   "outputs": [],
   "source": [
    "# your code\n",
    "X = pd.DataFrame(dogs_cats_scaled)\n",
    "\n",
    "pca = PCA(n_components=20) \n",
    "pca.fit(X)\n",
    "#scaler = StandardScaler().fit(X)\n",
    "X_pca = pca.transform(X)\n",
    "#pca.fit(X_pca)\n",
    "\n",
    "#pc1 = pca.transform(X_pca)[:, 0]\n",
    "#pc2 = pca.transform(X_pca)[:, 1]\n",
    "\n",
    "#X_new = pca.inverse_transform(X_std)"
   ]
  },
  {
   "cell_type": "code",
   "execution_count": null,
   "metadata": {},
   "outputs": [],
   "source": [
    "fit ajusta os eixos\n",
    "\n",
    "transforms pega dados antigos, pega coeficiente do antigo. e joga nos dados novos"
   ]
  },
  {
   "cell_type": "code",
   "execution_count": 53,
   "metadata": {},
   "outputs": [
    {
     "data": {
      "text/plain": [
       "0.7807040391574674"
      ]
     },
     "execution_count": 53,
     "metadata": {},
     "output_type": "execute_result"
    }
   ],
   "source": [
    "pca.explained_variance_ratio_.sum()"
   ]
  },
  {
   "cell_type": "code",
   "execution_count": 39,
   "metadata": {},
   "outputs": [
    {
     "data": {
      "text/plain": [
       "array([[ 45.54498136, -25.23893983, -11.78119527, ...,   2.91623257,\n",
       "          0.83540917,   1.18578247],\n",
       "       [-24.83285866, -41.57168449,  -1.9730954 , ...,   3.96513929,\n",
       "         -1.19071293,  -5.67005586],\n",
       "       [ 27.46924501,  11.9581864 ,  13.89360231, ...,   4.43805992,\n",
       "         -0.62886374,  -1.12024118],\n",
       "       ...,\n",
       "       [-18.71842728,  20.86738583,   0.64179526, ...,   2.51063412,\n",
       "          2.08984392,  -1.45863446],\n",
       "       [-14.32640838, -14.33438804, -12.78680714, ...,  -3.46278873,\n",
       "         -6.51504223,  -1.06467564],\n",
       "       [ 10.45500946,   8.36671583, -10.04035782, ...,  -6.29025201,\n",
       "          2.02023536,  -0.34088767]])"
      ]
     },
     "execution_count": 39,
     "metadata": {},
     "output_type": "execute_result"
    }
   ],
   "source": [
    "X_pca"
   ]
  },
  {
   "cell_type": "code",
   "execution_count": 41,
   "metadata": {},
   "outputs": [],
   "source": [
    "X_new = pca.inverse_transform(X_pca)"
   ]
  },
  {
   "cell_type": "code",
   "execution_count": 42,
   "metadata": {},
   "outputs": [
    {
     "data": {
      "text/plain": [
       "array([[ 1.57342819,  1.65798369,  1.64549421, ...,  0.27205087,\n",
       "         0.34244948,  0.47887568],\n",
       "       [ 0.77394642,  0.84730479,  0.9326127 , ...,  0.04453895,\n",
       "         0.34411104,  0.47046134],\n",
       "       [-0.23583953, -0.21386744, -0.19639215, ...,  0.0473539 ,\n",
       "        -0.01489637, -0.04163643],\n",
       "       ...,\n",
       "       [-0.77081053, -0.78272162, -0.75306278, ...,  0.22674527,\n",
       "         0.14138318,  0.10157904],\n",
       "       [ 1.76055789,  1.70234275,  1.67658942, ...,  1.2816411 ,\n",
       "         1.13789035,  1.04850149],\n",
       "       [ 0.2130852 ,  0.19181042,  0.1798899 , ..., -0.35884915,\n",
       "        -0.42438285, -0.41469386]])"
      ]
     },
     "execution_count": 42,
     "metadata": {},
     "output_type": "execute_result"
    }
   ],
   "source": [
    "X_new"
   ]
  },
  {
   "cell_type": "markdown",
   "metadata": {},
   "source": [
    "Use the `imshow` to plot the first row of the `inverse_transform` of the results. Compare the results with the original image."
   ]
  },
  {
   "cell_type": "code",
   "execution_count": 48,
   "metadata": {},
   "outputs": [
    {
     "data": {
      "text/plain": [
       "<matplotlib.image.AxesImage at 0x22e12b81cc8>"
      ]
     },
     "execution_count": 48,
     "metadata": {},
     "output_type": "execute_result"
    },
    {
     "data": {
      "image/png": "[encoded data removed]",
      "text/plain": [
       "<Figure size 432x288 with 1 Axes>"
      ]
     },
     "metadata": {
      "needs_background": "light"
     },
     "output_type": "display_data"
    }
   ],
   "source": [
    "# your code\n",
    "#reshape(somente na hora de mostrar a imagem no imshow)\n",
    "plt.imshow(X_new[3].reshape(64,64), cmap='Blues_r')"
   ]
  },
  {
   "cell_type": "markdown",
   "metadata": {},
   "source": [
    "Change the value of the components above to have a feeling of the information retained (try 100 components)."
   ]
  },
  {
   "cell_type": "code",
   "execution_count": 55,
   "metadata": {},
   "outputs": [
    {
     "data": {
      "text/plain": [
       "<matplotlib.image.AxesImage at 0x22e12e0e648>"
      ]
     },
     "execution_count": 55,
     "metadata": {},
     "output_type": "execute_result"
    },
    {
     "data": {
      "image/png": "[encoded data removed]",
      "text/plain": [
       "<Figure size 432x288 with 1 Axes>"
      ]
     },
     "metadata": {
      "needs_background": "light"
     },
     "output_type": "display_data"
    }
   ],
   "source": [
    "# your code\n",
    "X = pd.DataFrame(dogs_cats_scaled)\n",
    "\n",
    "pca2 = PCA(n_components=100) \n",
    "pca2.fit(X)\n",
    "\n",
    "X_pca2 = pca2.transform(X)\n",
    "\n",
    "\n",
    "X_new2 = pca2.inverse_transform(X_pca2)\n",
    "\n",
    "plt.imshow(X_new2[3].reshape(64,64), cmap='Blues_r')"
   ]
  },
  {
   "cell_type": "markdown",
   "metadata": {},
   "source": [
    "The results above demonstrate the power of the PCA analysis. It takes the best combination of your columns in such a way that it preserves the most of its information. So, although you lose some of the information, you effectively reduce the number of dimensions on your dataset. This can be important both for visualization purposes as well as for understanding the importance of each feature."
   ]
  }
 ],
 "metadata": {
  "kernelspec": {
   "display_name": "Python 3",
   "language": "python",
   "name": "python3"
  },
  "language_info": {
   "codemirror_mode": {
    "name": "ipython",
    "version": 3
   },
   "file_extension": ".py",
   "mimetype": "text/x-python",
   "name": "python",
   "nbconvert_exporter": "python",
   "pygments_lexer": "ipython3",
   "version": "3.7.4"
  },
  "toc": {
   "base_numbering": 1,
   "nav_menu": {},
   "number_sections": true,
   "sideBar": true,
   "skip_h1_title": false,
   "title_cell": "Table of Contents",
   "title_sidebar": "Contents",
   "toc_cell": false,
   "toc_position": {},
   "toc_section_display": true,
   "toc_window_display": false
  },
  "varInspector": {
   "cols": {
    "lenName": 16,
    "lenType": 16,
    "lenVar": 40
   },
   "kernels_config": {
    "python": {
     "delete_cmd_postfix": "",
     "delete_cmd_prefix": "del ",
     "library": "var_list.py",
     "varRefreshCmd": "print(var_dic_list())"
    },
    "r": {
     "delete_cmd_postfix": ") ",
     "delete_cmd_prefix": "rm(",
     "library": "var_list.r",
     "varRefreshCmd": "cat(var_dic_list()) "
    }
   },
   "types_to_exclude": [
    "module",
    "function",
    "builtin_function_or_method",
    "instance",
    "_Feature"
   ],
   "window_display": false
  }
 },
 "nbformat": 4,
 "nbformat_minor": 2
}
